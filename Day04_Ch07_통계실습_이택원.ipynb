{
  "cells": [
    {
      "cell_type": "markdown",
      "metadata": {
        "id": "view-in-github",
        "colab_type": "text"
      },
      "source": [
        "<a href=\"https://colab.research.google.com/github/twlee-dev/lab/blob/main/Day04_Ch07_%ED%86%B5%EA%B3%84%EC%8B%A4%EC%8A%B5_%EC%9D%B4%ED%83%9D%EC%9B%90.ipynb\" target=\"_parent\"><img src=\"https://colab.research.google.com/assets/colab-badge.svg\" alt=\"Open In Colab\"/></a>"
      ]
    },
    {
      "cell_type": "markdown",
      "metadata": {
        "id": "zOC88Nf33CRz"
      },
      "source": [
        "## 사전 준비: 라이브러리 및 데이터 로드\n"
      ]
    },
    {
      "cell_type": "code",
      "execution_count": 1,
      "metadata": {
        "id": "5BFsT0f-3CR3",
        "colab": {
          "base_uri": "https://localhost:8080/"
        },
        "outputId": "7caccae8-d594-4ee5-82bf-64b91992f021"
      },
      "outputs": [
        {
          "output_type": "stream",
          "name": "stdout",
          "text": [
            "Requirement already satisfied: statsmodels in /usr/local/lib/python3.12/dist-packages (0.14.5)\n",
            "Requirement already satisfied: numpy<3,>=1.22.3 in /usr/local/lib/python3.12/dist-packages (from statsmodels) (2.0.2)\n",
            "Requirement already satisfied: scipy!=1.9.2,>=1.8 in /usr/local/lib/python3.12/dist-packages (from statsmodels) (1.16.1)\n",
            "Requirement already satisfied: pandas!=2.1.0,>=1.4 in /usr/local/lib/python3.12/dist-packages (from statsmodels) (2.2.2)\n",
            "Requirement already satisfied: patsy>=0.5.6 in /usr/local/lib/python3.12/dist-packages (from statsmodels) (1.0.1)\n",
            "Requirement already satisfied: packaging>=21.3 in /usr/local/lib/python3.12/dist-packages (from statsmodels) (25.0)\n",
            "Requirement already satisfied: python-dateutil>=2.8.2 in /usr/local/lib/python3.12/dist-packages (from pandas!=2.1.0,>=1.4->statsmodels) (2.9.0.post0)\n",
            "Requirement already satisfied: pytz>=2020.1 in /usr/local/lib/python3.12/dist-packages (from pandas!=2.1.0,>=1.4->statsmodels) (2025.2)\n",
            "Requirement already satisfied: tzdata>=2022.7 in /usr/local/lib/python3.12/dist-packages (from pandas!=2.1.0,>=1.4->statsmodels) (2025.2)\n",
            "Requirement already satisfied: six>=1.5 in /usr/local/lib/python3.12/dist-packages (from python-dateutil>=2.8.2->pandas!=2.1.0,>=1.4->statsmodels) (1.17.0)\n",
            "Reading package lists... Done\n",
            "Building dependency tree... Done\n",
            "Reading state information... Done\n",
            "The following NEW packages will be installed:\n",
            "  fonts-nanum\n",
            "0 upgraded, 1 newly installed, 0 to remove and 35 not upgraded.\n",
            "Need to get 10.3 MB of archives.\n",
            "After this operation, 34.1 MB of additional disk space will be used.\n",
            "Get:1 http://archive.ubuntu.com/ubuntu jammy/universe amd64 fonts-nanum all 20200506-1 [10.3 MB]\n",
            "Fetched 10.3 MB in 0s (26.3 MB/s)\n",
            "debconf: unable to initialize frontend: Dialog\n",
            "debconf: (No usable dialog-like program is installed, so the dialog based frontend cannot be used. at /usr/share/perl5/Debconf/FrontEnd/Dialog.pm line 78, <> line 1.)\n",
            "debconf: falling back to frontend: Readline\n",
            "debconf: unable to initialize frontend: Readline\n",
            "debconf: (This frontend requires a controlling tty.)\n",
            "debconf: falling back to frontend: Teletype\n",
            "dpkg-preconfigure: unable to re-open stdin: \n",
            "Selecting previously unselected package fonts-nanum.\n",
            "(Reading database ... 126374 files and directories currently installed.)\n",
            "Preparing to unpack .../fonts-nanum_20200506-1_all.deb ...\n",
            "Unpacking fonts-nanum (20200506-1) ...\n",
            "Setting up fonts-nanum (20200506-1) ...\n",
            "Processing triggers for fontconfig (2.13.1-4.2ubuntu5) ...\n",
            "/usr/share/fonts: caching, new cache contents: 0 fonts, 1 dirs\n",
            "/usr/share/fonts/truetype: caching, new cache contents: 0 fonts, 3 dirs\n",
            "/usr/share/fonts/truetype/humor-sans: caching, new cache contents: 1 fonts, 0 dirs\n",
            "/usr/share/fonts/truetype/liberation: caching, new cache contents: 16 fonts, 0 dirs\n",
            "/usr/share/fonts/truetype/nanum: caching, new cache contents: 12 fonts, 0 dirs\n",
            "/usr/local/share/fonts: caching, new cache contents: 0 fonts, 0 dirs\n",
            "/root/.local/share/fonts: skipping, no such directory\n",
            "/root/.fonts: skipping, no such directory\n",
            "/usr/share/fonts/truetype: skipping, looped directory detected\n",
            "/usr/share/fonts/truetype/humor-sans: skipping, looped directory detected\n",
            "/usr/share/fonts/truetype/liberation: skipping, looped directory detected\n",
            "/usr/share/fonts/truetype/nanum: skipping, looped directory detected\n",
            "/var/cache/fontconfig: cleaning cache directory\n",
            "/root/.cache/fontconfig: not cleaning non-existent cache directory\n",
            "/root/.fontconfig: not cleaning non-existent cache directory\n",
            "fc-cache: succeeded\n"
          ]
        }
      ],
      "source": [
        "# 필요 라이브러리 설치\n",
        "!pip install statsmodels\n",
        "\n",
        "# 코랩에서 한글 폰트 사용을 위한 설정\n",
        "!sudo apt-get install -y fonts-nanum\n",
        "!sudo fc-cache -fv\n",
        "!rm ~/.cache/matplotlib -rf\n",
        "\n",
        "# 런타임 다시 시작 안내\n",
        "# 위 코드 실행 후 상단 메뉴에서 [런타임] > [런타임 다시 시작]을 눌러주세요.\n",
        "# 런타임을 다시 시작해야 한글 폰트가 적용됩니다."
      ]
    },
    {
      "cell_type": "markdown",
      "source": [],
      "metadata": {
        "id": "vgemAkYxLqsu"
      }
    },
    {
      "cell_type": "code",
      "execution_count": 1,
      "metadata": {
        "id": "Ogw2Ot0x3CR4"
      },
      "outputs": [],
      "source": [
        "# 런타임 다시 시작 후, 이 셀을 실행하여 라이브러리와 폰트를 로드합니다.\n",
        "import pandas as pd\n",
        "import numpy as np\n",
        "import scipy.stats as stats\n",
        "import matplotlib.pyplot as plt\n",
        "import seaborn as sns\n",
        "from statsmodels.stats.multicomp import pairwise_tukeyhsd\n",
        "\n",
        "# 한글 폰트 설정\n",
        "plt.rc('font', family='NanumGothic')\n",
        "plt.rcParams['axes.unicode_minus'] = False # 마이너스 기호 깨짐 방지"
      ]
    },
    {
      "cell_type": "code",
      "execution_count": 2,
      "metadata": {
        "id": "kv7XY5S93CR4",
        "colab": {
          "base_uri": "https://localhost:8080/",
          "height": 206
        },
        "outputId": "ad4257b0-7407-483d-8bc7-d079b9de3b48"
      },
      "outputs": [
        {
          "output_type": "execute_result",
          "data": {
            "text/plain": [
              "  species     island  bill_length_mm  bill_depth_mm  flipper_length_mm  \\\n",
              "0  Adelie  Torgersen            39.1           18.7              181.0   \n",
              "1  Adelie  Torgersen            39.5           17.4              186.0   \n",
              "2  Adelie  Torgersen            40.3           18.0              195.0   \n",
              "3  Adelie  Torgersen             NaN            NaN                NaN   \n",
              "4  Adelie  Torgersen            36.7           19.3              193.0   \n",
              "\n",
              "   body_mass_g     sex  \n",
              "0       3750.0    Male  \n",
              "1       3800.0  Female  \n",
              "2       3250.0  Female  \n",
              "3          NaN     NaN  \n",
              "4       3450.0  Female  "
            ],
            "text/html": [
              "\n",
              "  <div id=\"df-60743031-3f0c-4789-a273-62c2957ba659\" class=\"colab-df-container\">\n",
              "    <div>\n",
              "<style scoped>\n",
              "    .dataframe tbody tr th:only-of-type {\n",
              "        vertical-align: middle;\n",
              "    }\n",
              "\n",
              "    .dataframe tbody tr th {\n",
              "        vertical-align: top;\n",
              "    }\n",
              "\n",
              "    .dataframe thead th {\n",
              "        text-align: right;\n",
              "    }\n",
              "</style>\n",
              "<table border=\"1\" class=\"dataframe\">\n",
              "  <thead>\n",
              "    <tr style=\"text-align: right;\">\n",
              "      <th></th>\n",
              "      <th>species</th>\n",
              "      <th>island</th>\n",
              "      <th>bill_length_mm</th>\n",
              "      <th>bill_depth_mm</th>\n",
              "      <th>flipper_length_mm</th>\n",
              "      <th>body_mass_g</th>\n",
              "      <th>sex</th>\n",
              "    </tr>\n",
              "  </thead>\n",
              "  <tbody>\n",
              "    <tr>\n",
              "      <th>0</th>\n",
              "      <td>Adelie</td>\n",
              "      <td>Torgersen</td>\n",
              "      <td>39.1</td>\n",
              "      <td>18.7</td>\n",
              "      <td>181.0</td>\n",
              "      <td>3750.0</td>\n",
              "      <td>Male</td>\n",
              "    </tr>\n",
              "    <tr>\n",
              "      <th>1</th>\n",
              "      <td>Adelie</td>\n",
              "      <td>Torgersen</td>\n",
              "      <td>39.5</td>\n",
              "      <td>17.4</td>\n",
              "      <td>186.0</td>\n",
              "      <td>3800.0</td>\n",
              "      <td>Female</td>\n",
              "    </tr>\n",
              "    <tr>\n",
              "      <th>2</th>\n",
              "      <td>Adelie</td>\n",
              "      <td>Torgersen</td>\n",
              "      <td>40.3</td>\n",
              "      <td>18.0</td>\n",
              "      <td>195.0</td>\n",
              "      <td>3250.0</td>\n",
              "      <td>Female</td>\n",
              "    </tr>\n",
              "    <tr>\n",
              "      <th>3</th>\n",
              "      <td>Adelie</td>\n",
              "      <td>Torgersen</td>\n",
              "      <td>NaN</td>\n",
              "      <td>NaN</td>\n",
              "      <td>NaN</td>\n",
              "      <td>NaN</td>\n",
              "      <td>NaN</td>\n",
              "    </tr>\n",
              "    <tr>\n",
              "      <th>4</th>\n",
              "      <td>Adelie</td>\n",
              "      <td>Torgersen</td>\n",
              "      <td>36.7</td>\n",
              "      <td>19.3</td>\n",
              "      <td>193.0</td>\n",
              "      <td>3450.0</td>\n",
              "      <td>Female</td>\n",
              "    </tr>\n",
              "  </tbody>\n",
              "</table>\n",
              "</div>\n",
              "    <div class=\"colab-df-buttons\">\n",
              "\n",
              "  <div class=\"colab-df-container\">\n",
              "    <button class=\"colab-df-convert\" onclick=\"convertToInteractive('df-60743031-3f0c-4789-a273-62c2957ba659')\"\n",
              "            title=\"Convert this dataframe to an interactive table.\"\n",
              "            style=\"display:none;\">\n",
              "\n",
              "  <svg xmlns=\"http://www.w3.org/2000/svg\" height=\"24px\" viewBox=\"0 -960 960 960\">\n",
              "    <path d=\"M120-120v-720h720v720H120Zm60-500h600v-160H180v160Zm220 220h160v-160H400v160Zm0 220h160v-160H400v160ZM180-400h160v-160H180v160Zm440 0h160v-160H620v160ZM180-180h160v-160H180v160Zm440 0h160v-160H620v160Z\"/>\n",
              "  </svg>\n",
              "    </button>\n",
              "\n",
              "  <style>\n",
              "    .colab-df-container {\n",
              "      display:flex;\n",
              "      gap: 12px;\n",
              "    }\n",
              "\n",
              "    .colab-df-convert {\n",
              "      background-color: #E8F0FE;\n",
              "      border: none;\n",
              "      border-radius: 50%;\n",
              "      cursor: pointer;\n",
              "      display: none;\n",
              "      fill: #1967D2;\n",
              "      height: 32px;\n",
              "      padding: 0 0 0 0;\n",
              "      width: 32px;\n",
              "    }\n",
              "\n",
              "    .colab-df-convert:hover {\n",
              "      background-color: #E2EBFA;\n",
              "      box-shadow: 0px 1px 2px rgba(60, 64, 67, 0.3), 0px 1px 3px 1px rgba(60, 64, 67, 0.15);\n",
              "      fill: #174EA6;\n",
              "    }\n",
              "\n",
              "    .colab-df-buttons div {\n",
              "      margin-bottom: 4px;\n",
              "    }\n",
              "\n",
              "    [theme=dark] .colab-df-convert {\n",
              "      background-color: #3B4455;\n",
              "      fill: #D2E3FC;\n",
              "    }\n",
              "\n",
              "    [theme=dark] .colab-df-convert:hover {\n",
              "      background-color: #434B5C;\n",
              "      box-shadow: 0px 1px 3px 1px rgba(0, 0, 0, 0.15);\n",
              "      filter: drop-shadow(0px 1px 2px rgba(0, 0, 0, 0.3));\n",
              "      fill: #FFFFFF;\n",
              "    }\n",
              "  </style>\n",
              "\n",
              "    <script>\n",
              "      const buttonEl =\n",
              "        document.querySelector('#df-60743031-3f0c-4789-a273-62c2957ba659 button.colab-df-convert');\n",
              "      buttonEl.style.display =\n",
              "        google.colab.kernel.accessAllowed ? 'block' : 'none';\n",
              "\n",
              "      async function convertToInteractive(key) {\n",
              "        const element = document.querySelector('#df-60743031-3f0c-4789-a273-62c2957ba659');\n",
              "        const dataTable =\n",
              "          await google.colab.kernel.invokeFunction('convertToInteractive',\n",
              "                                                    [key], {});\n",
              "        if (!dataTable) return;\n",
              "\n",
              "        const docLinkHtml = 'Like what you see? Visit the ' +\n",
              "          '<a target=\"_blank\" href=https://colab.research.google.com/notebooks/data_table.ipynb>data table notebook</a>'\n",
              "          + ' to learn more about interactive tables.';\n",
              "        element.innerHTML = '';\n",
              "        dataTable['output_type'] = 'display_data';\n",
              "        await google.colab.output.renderOutput(dataTable, element);\n",
              "        const docLink = document.createElement('div');\n",
              "        docLink.innerHTML = docLinkHtml;\n",
              "        element.appendChild(docLink);\n",
              "      }\n",
              "    </script>\n",
              "  </div>\n",
              "\n",
              "\n",
              "    <div id=\"df-fe68d7f7-d979-4656-967f-45da3ebe3830\">\n",
              "      <button class=\"colab-df-quickchart\" onclick=\"quickchart('df-fe68d7f7-d979-4656-967f-45da3ebe3830')\"\n",
              "                title=\"Suggest charts\"\n",
              "                style=\"display:none;\">\n",
              "\n",
              "<svg xmlns=\"http://www.w3.org/2000/svg\" height=\"24px\"viewBox=\"0 0 24 24\"\n",
              "     width=\"24px\">\n",
              "    <g>\n",
              "        <path d=\"M19 3H5c-1.1 0-2 .9-2 2v14c0 1.1.9 2 2 2h14c1.1 0 2-.9 2-2V5c0-1.1-.9-2-2-2zM9 17H7v-7h2v7zm4 0h-2V7h2v10zm4 0h-2v-4h2v4z\"/>\n",
              "    </g>\n",
              "</svg>\n",
              "      </button>\n",
              "\n",
              "<style>\n",
              "  .colab-df-quickchart {\n",
              "      --bg-color: #E8F0FE;\n",
              "      --fill-color: #1967D2;\n",
              "      --hover-bg-color: #E2EBFA;\n",
              "      --hover-fill-color: #174EA6;\n",
              "      --disabled-fill-color: #AAA;\n",
              "      --disabled-bg-color: #DDD;\n",
              "  }\n",
              "\n",
              "  [theme=dark] .colab-df-quickchart {\n",
              "      --bg-color: #3B4455;\n",
              "      --fill-color: #D2E3FC;\n",
              "      --hover-bg-color: #434B5C;\n",
              "      --hover-fill-color: #FFFFFF;\n",
              "      --disabled-bg-color: #3B4455;\n",
              "      --disabled-fill-color: #666;\n",
              "  }\n",
              "\n",
              "  .colab-df-quickchart {\n",
              "    background-color: var(--bg-color);\n",
              "    border: none;\n",
              "    border-radius: 50%;\n",
              "    cursor: pointer;\n",
              "    display: none;\n",
              "    fill: var(--fill-color);\n",
              "    height: 32px;\n",
              "    padding: 0;\n",
              "    width: 32px;\n",
              "  }\n",
              "\n",
              "  .colab-df-quickchart:hover {\n",
              "    background-color: var(--hover-bg-color);\n",
              "    box-shadow: 0 1px 2px rgba(60, 64, 67, 0.3), 0 1px 3px 1px rgba(60, 64, 67, 0.15);\n",
              "    fill: var(--button-hover-fill-color);\n",
              "  }\n",
              "\n",
              "  .colab-df-quickchart-complete:disabled,\n",
              "  .colab-df-quickchart-complete:disabled:hover {\n",
              "    background-color: var(--disabled-bg-color);\n",
              "    fill: var(--disabled-fill-color);\n",
              "    box-shadow: none;\n",
              "  }\n",
              "\n",
              "  .colab-df-spinner {\n",
              "    border: 2px solid var(--fill-color);\n",
              "    border-color: transparent;\n",
              "    border-bottom-color: var(--fill-color);\n",
              "    animation:\n",
              "      spin 1s steps(1) infinite;\n",
              "  }\n",
              "\n",
              "  @keyframes spin {\n",
              "    0% {\n",
              "      border-color: transparent;\n",
              "      border-bottom-color: var(--fill-color);\n",
              "      border-left-color: var(--fill-color);\n",
              "    }\n",
              "    20% {\n",
              "      border-color: transparent;\n",
              "      border-left-color: var(--fill-color);\n",
              "      border-top-color: var(--fill-color);\n",
              "    }\n",
              "    30% {\n",
              "      border-color: transparent;\n",
              "      border-left-color: var(--fill-color);\n",
              "      border-top-color: var(--fill-color);\n",
              "      border-right-color: var(--fill-color);\n",
              "    }\n",
              "    40% {\n",
              "      border-color: transparent;\n",
              "      border-right-color: var(--fill-color);\n",
              "      border-top-color: var(--fill-color);\n",
              "    }\n",
              "    60% {\n",
              "      border-color: transparent;\n",
              "      border-right-color: var(--fill-color);\n",
              "    }\n",
              "    80% {\n",
              "      border-color: transparent;\n",
              "      border-right-color: var(--fill-color);\n",
              "      border-bottom-color: var(--fill-color);\n",
              "    }\n",
              "    90% {\n",
              "      border-color: transparent;\n",
              "      border-bottom-color: var(--fill-color);\n",
              "    }\n",
              "  }\n",
              "</style>\n",
              "\n",
              "      <script>\n",
              "        async function quickchart(key) {\n",
              "          const quickchartButtonEl =\n",
              "            document.querySelector('#' + key + ' button');\n",
              "          quickchartButtonEl.disabled = true;  // To prevent multiple clicks.\n",
              "          quickchartButtonEl.classList.add('colab-df-spinner');\n",
              "          try {\n",
              "            const charts = await google.colab.kernel.invokeFunction(\n",
              "                'suggestCharts', [key], {});\n",
              "          } catch (error) {\n",
              "            console.error('Error during call to suggestCharts:', error);\n",
              "          }\n",
              "          quickchartButtonEl.classList.remove('colab-df-spinner');\n",
              "          quickchartButtonEl.classList.add('colab-df-quickchart-complete');\n",
              "        }\n",
              "        (() => {\n",
              "          let quickchartButtonEl =\n",
              "            document.querySelector('#df-fe68d7f7-d979-4656-967f-45da3ebe3830 button');\n",
              "          quickchartButtonEl.style.display =\n",
              "            google.colab.kernel.accessAllowed ? 'block' : 'none';\n",
              "        })();\n",
              "      </script>\n",
              "    </div>\n",
              "\n",
              "    </div>\n",
              "  </div>\n"
            ],
            "application/vnd.google.colaboratory.intrinsic+json": {
              "type": "dataframe",
              "variable_name": "penguins",
              "summary": "{\n  \"name\": \"penguins\",\n  \"rows\": 344,\n  \"fields\": [\n    {\n      \"column\": \"species\",\n      \"properties\": {\n        \"dtype\": \"category\",\n        \"num_unique_values\": 3,\n        \"samples\": [\n          \"Adelie\",\n          \"Chinstrap\",\n          \"Gentoo\"\n        ],\n        \"semantic_type\": \"\",\n        \"description\": \"\"\n      }\n    },\n    {\n      \"column\": \"island\",\n      \"properties\": {\n        \"dtype\": \"category\",\n        \"num_unique_values\": 3,\n        \"samples\": [\n          \"Torgersen\",\n          \"Biscoe\",\n          \"Dream\"\n        ],\n        \"semantic_type\": \"\",\n        \"description\": \"\"\n      }\n    },\n    {\n      \"column\": \"bill_length_mm\",\n      \"properties\": {\n        \"dtype\": \"number\",\n        \"std\": 5.459583713926532,\n        \"min\": 32.1,\n        \"max\": 59.6,\n        \"num_unique_values\": 164,\n        \"samples\": [\n          48.2,\n          49.8,\n          45.1\n        ],\n        \"semantic_type\": \"\",\n        \"description\": \"\"\n      }\n    },\n    {\n      \"column\": \"bill_depth_mm\",\n      \"properties\": {\n        \"dtype\": \"number\",\n        \"std\": 1.9747931568167816,\n        \"min\": 13.1,\n        \"max\": 21.5,\n        \"num_unique_values\": 80,\n        \"samples\": [\n          16.9,\n          18.7,\n          18.6\n        ],\n        \"semantic_type\": \"\",\n        \"description\": \"\"\n      }\n    },\n    {\n      \"column\": \"flipper_length_mm\",\n      \"properties\": {\n        \"dtype\": \"number\",\n        \"std\": 14.061713679356894,\n        \"min\": 172.0,\n        \"max\": 231.0,\n        \"num_unique_values\": 55,\n        \"samples\": [\n          201.0,\n          180.0,\n          212.0\n        ],\n        \"semantic_type\": \"\",\n        \"description\": \"\"\n      }\n    },\n    {\n      \"column\": \"body_mass_g\",\n      \"properties\": {\n        \"dtype\": \"number\",\n        \"std\": 801.9545356980954,\n        \"min\": 2700.0,\n        \"max\": 6300.0,\n        \"num_unique_values\": 94,\n        \"samples\": [\n          4350.0,\n          4150.0,\n          3525.0\n        ],\n        \"semantic_type\": \"\",\n        \"description\": \"\"\n      }\n    },\n    {\n      \"column\": \"sex\",\n      \"properties\": {\n        \"dtype\": \"category\",\n        \"num_unique_values\": 2,\n        \"samples\": [\n          \"Female\",\n          \"Male\"\n        ],\n        \"semantic_type\": \"\",\n        \"description\": \"\"\n      }\n    }\n  ]\n}"
            }
          },
          "metadata": {},
          "execution_count": 2
        }
      ],
      "source": [
        "# 실습용 데이터셋 불러오기\n",
        "penguins = sns.load_dataset('penguins')\n",
        "penguins.head()"
      ]
    },
    {
      "cell_type": "markdown",
      "metadata": {
        "id": "7CMU09Vj3CR5"
      },
      "source": [
        "---\n"
      ]
    },
    {
      "cell_type": "markdown",
      "metadata": {
        "id": "G7Qdy9C83CR5"
      },
      "source": [
        "## 문제 1 (난이도: 하): 관계의 시작, 산점도 그리기\n",
        "\n",
        "> **🎯 목표:** 두 변수 사이의 관계를 눈으로 확인하는 가장 기본적인 방법인 **산점도(Scatter Plot)**를 직접 그려보고, 그 의미를 이해합니다.\n"
      ]
    },
    {
      "cell_type": "markdown",
      "metadata": {
        "id": "YhOPHuxG3CR5"
      },
      "source": [
        "### 💡 핵심 개념:\n",
        "\n",
        "**산점도**는 두 개의 숫자 데이터(양적 변수)를 점으로 표현한 그래프입니다. 각 데이터 하나가 점 하나가 됩니다. 가로축(x축)과 세로축(y축)에 각각 다른 변수를 놓고 점을 찍어보면, 점들이 흩어져 있는 모양(분포)을 통해 두 변수가 어떤 관계를 맺고 있는지 짐작할 수 있습니다.\n",
        "\n",
        "예를 들어, 점들이 우상향하는 모양이라면 'x가 커질 때 y도 커지는구나'라고 생각할 수 있습니다.\n"
      ]
    },
    {
      "cell_type": "markdown",
      "metadata": {
        "id": "N6CpbLXl3CR5"
      },
      "source": [
        "### 📌 수행 과제:\n",
        "\n",
        "1. `penguins` 데이터셋에서 `bill_length_mm`(부리 길이)와 `bill_depth_mm`(부리 두께) 두 변수를 사용합니다.\n",
        "2. `seaborn` 라이브러리의 `scatterplot` 함수를 이용해 산점도를 그리세요.\n",
        "   - x축: `bill_length_mm`\n",
        "   - y축: `bill_depth_mm`\n",
        "3. 그래프의 제목과 축 라벨을 알아보기 쉽게 한글로 설정하세요.\n",
        "4. 완성된 산점도의 점들이 어떤 패턴을 보이는지 설명해 보세요.\n"
      ]
    },
    {
      "cell_type": "markdown",
      "metadata": {
        "id": "3Bd9QOee3CR6"
      },
      "source": [
        "### ✍️ 코드 작성:\n"
      ]
    },
    {
      "cell_type": "code",
      "execution_count": 4,
      "metadata": {
        "id": "2fzOVm0Z3CR6",
        "colab": {
          "base_uri": "https://localhost:8080/",
          "height": 562
        },
        "outputId": "6861eb68-602f-48a2-b18e-cd55ea6d8af7"
      },
      "outputs": [
        {
          "output_type": "display_data",
          "data": {
            "text/plain": [
              "<Figure size 800x600 with 1 Axes>"
            ],
            "image/png": "[encoded data removed]"
          },
          "metadata": {}
        }
      ],
      "source": [
        "# 그래프를 그릴 도화지를 준비합니다.\n",
        "plt.figure(figsize=(8, 6))\n",
        "\n",
        "# 1. 여기에 산점도를 그리는 코드를 작성하세요.\n",
        "# sns.scatterplot() 함수를 사용하고, data, x, y 인자를 지정해보세요.\n",
        "sns.scatterplot(data=penguins, x='bill_length_mm', y='bill_depth_mm')\n",
        "\n",
        "# 2. 여기에 그래프 제목과 축 라벨을 설정하는 코드를 작성하세요.\n",
        "# plt.title(), plt.xlabel(), plt.ylabel() 함수를 사용합니다.\n",
        "plt.title('펭귄 부리 길이와 부리 두께의 관계')\n",
        "plt.xlabel('부리 길이 (mm)')\n",
        "plt.ylabel('부리 두께 (mm)')\n",
        "\n",
        "# 그래프를 화면에 보여줍니다.\n",
        "plt.show()\n",
        "\n",
        "# 3. 결과 해석 (아래 주석에 직접 작성해 보세요)\n",
        "# 해석: 산점도를 보면, 점들이 전체적으로 명확한 하나의 직선 형태를 이루기보다는 두 개의 큰 그룹으로 나뉘어 분포하는 경향을 보입니다.\n",
        "# 왼쪽 그룹은 부리 길이가 짧고 부리 두께가 두꺼운 경향이 있으며, 오른쪽 그룹은 부리 길이가 길고 부리 두께가 얇은 경향이 있습니다.\n",
        "# 이는 펭귄 종류에 따라 부리의 특징이 다를 수 있음을 시사합니다."
      ]
    },
    {
      "cell_type": "markdown",
      "metadata": {
        "id": "QcZs7gEo3CR6"
      },
      "source": [
        "### 🤔 생각해 볼 문제:\n",
        "\n",
        "현재 산점도에 펭귄의 '종류(species)'별로 점의 색깔을 다르게 칠한다면, 전체적으로 보이던 패턴 외에 우리가 미처 발견하지 못했던 새로운 사실을 알 수 있을까요? 어떤 점이 달라 보일지 추측해 봅시다.\n"
      ]
    },
    {
      "cell_type": "code",
      "metadata": {
        "colab": {
          "base_uri": "https://localhost:8080/",
          "height": 563
        },
        "id": "b9806424",
        "outputId": "59976675-5846-433a-d9a7-7990f99c6614"
      },
      "source": [
        "# 그래프를 그릴 도화지를 준비합니다.\n",
        "plt.figure(figsize=(8, 6))\n",
        "\n",
        "# 펭귄 종류(species)별로 색깔을 다르게 하여 산점도를 그립니다.\n",
        "sns.scatterplot(data=penguins, x='bill_length_mm', y='bill_depth_mm', hue='species')\n",
        "\n",
        "# 그래프 제목과 축 라벨을 설정합니다.\n",
        "plt.title('펭귄 부리 길이와 부리 두께의 관계 (종류별)')\n",
        "plt.xlabel('부리 길이 (mm)')\n",
        "plt.ylabel('부리 두께 (mm)')\n",
        "\n",
        "# 범례를 표시합니다.\n",
        "plt.legend(title='펭귄 종류')\n",
        "\n",
        "# 그래프를 화면에 보여줍니다.\n",
        "plt.show()"
      ],
      "execution_count": 5,
      "outputs": [
        {
          "output_type": "display_data",
          "data": {
            "text/plain": [
              "<Figure size 800x600 with 1 Axes>"
            ],
            "image/png": "[encoded data removed]"
          },
          "metadata": {}
        }
      ]
    },
    {
      "cell_type": "markdown",
      "metadata": {
        "id": "2c22dd46"
      },
      "source": [
        "### 🤔 생각해 볼 문제 결과:\n",
        "\n",
        "'종류(species)'별로 점의 색깔을 다르게 칠한 산점도를 보면, 앞서 전체 산점도에서 두 개의 큰 그룹으로 나뉘어 보이던 패턴이 각 펭귄 종류에 따라 명확하게 구분됨을 알 수 있습니다.\n",
        "\n",
        "*   **Adelie 펭귄:** 부리 길이가 짧고 부리 두께가 두꺼운 편에 속합니다. 전체 산점도에서 왼쪽 그룹을 형성했습니다.\n",
        "*   **Gentoo 펭귄:** 부리 길이가 길고 부리 두께가 얇은 편에 속합니다. 전체 산점도에서 오른쪽 아래 그룹을 형성했습니다.\n",
        "*   **Chinstrap 펭귄:** 부리 길이가 길지만, Gentoo 펭귄보다는 부리 두께가 더 두꺼운 편입니다. 전체 산점도에서 오른쪽 위 그룹을 형성했습니다.\n",
        "\n",
        "이를 통해 부리의 길이와 두께는 펭귄의 종류를 구분하는 중요한 특징 중 하나임을 알 수 있습니다. 단순히 전체 데이터를 볼 때와 달리, 종류라는 추가적인 정보를 활용하니 데이터 내부에 숨겨진 구조를 더 명확하게 파악할 수 있게 되었습니다."
      ]
    },
    {
      "cell_type": "markdown",
      "source": [],
      "metadata": {
        "id": "CYvb7G-0fJNr"
      }
    },
    {
      "cell_type": "markdown",
      "metadata": {
        "id": "dF5_ptub3CR6"
      },
      "source": [
        "---\n"
      ]
    },
    {
      "cell_type": "markdown",
      "metadata": {
        "id": "haEOoAoT3CR7"
      },
      "source": [
        "## 문제 2 (난이도: 하): 관계를 숫자로 요약하기, 상관계수\n",
        "\n",
        "> **🎯 목표:** 눈으로 확인한 관계의 **방향**과 **강도**를 **상관계수**라는 하나의 숫자로 계산하고, 그 숫자의 의미를 해석하는 방법을 배웁니다.\n"
      ]
    },
    {
      "cell_type": "markdown",
      "metadata": {
        "id": "3_4gPlmB3CR7"
      },
      "source": [
        "### 💡 핵심 개념:\n",
        "\n",
        "**피어슨 상관계수(r)**는 두 변수가 얼마나 '똑바로', '함께' 움직이는지를 -1에서 +1 사이의 점수로 알려줍니다.\n",
        "\n",
        "- **부호(+, -):** 관계의 **방향**을 의미합니다.\n",
        "  - `+` (양수): 한 변수가 커질 때 다른 변수도 같이 커지는 **양의 상관관계** (예: 공부 시간과 성적).\n",
        "  - `-` (음수): 한 변수가 커질 때 다른 변수는 작아지는 **음의 상관관계** (예: 운동 시간과 체지방률).\n",
        "- **크기(절대값):** 관계의 **강도**를 의미합니다.\n",
        "  - `1` 또는 `-1`에 가까울수록 점들이 거의 일직선 위에 놓인 강한 관계입니다.\n",
        "  - `0`에 가까울수록 관계가 없거나, 직선이 아닌 다른 복잡한 관계(비선형 관계)일 수 있습니다.\n"
      ]
    },
    {
      "cell_type": "markdown",
      "metadata": {
        "id": "FcOpPolg3CR7"
      },
      "source": [
        "### 📌 수행 과제:\n",
        "\n",
        "1. `penguins` 데이터셋에서 `bill_length_mm`와 `bill_depth_mm` 두 변수를 선택하세요.\n",
        "2. `pandas`의 `.corr()` 메소드를 사용해 두 변수 간의 상관계수를 계산하세요. (계산 전 `.dropna()`로 빈칸이 있는 행을 제거해야 합니다.)\n",
        "3. 계산된 상관계수의 부호와 크기를 보고, 두 변수의 관계를 설명해 보세요.\n"
      ]
    },
    {
      "cell_type": "markdown",
      "metadata": {
        "id": "1p0NSoss3CR7"
      },
      "source": [
        "### ✍️ 코드 작성:\n"
      ]
    },
    {
      "cell_type": "code",
      "execution_count": 6,
      "metadata": {
        "id": "lq8jed423CR7",
        "colab": {
          "base_uri": "https://localhost:8080/"
        },
        "outputId": "ff52f0f8-fe71-4368-8387-d1a59d6fed40"
      },
      "outputs": [
        {
          "output_type": "stream",
          "name": "stdout",
          "text": [
            "                bill_length_mm  bill_depth_mm\n",
            "bill_length_mm        1.000000      -0.235053\n",
            "bill_depth_mm        -0.235053       1.000000\n"
          ]
        }
      ],
      "source": [
        "# 1. 분석할 두 변수를 선택하고, 빈칸(결측치)이 있는 행을 제거하세요.\n",
        "df_corr = penguins[['bill_length_mm', 'bill_depth_mm']].dropna()\n",
        "\n",
        "# 2. 여기에 상관계수를 계산하는 코드를 작성하세요.\n",
        "# 위에서 만든 df_corr 데이터프레임에 .corr() 메소드를 적용합니다.\n",
        "correlation_matrix = df_corr.corr()\n",
        "\n",
        "# 계산된 상관계수 행렬을 출력합니다.\n",
        "print(correlation_matrix)\n",
        "\n",
        "# 3. 결과 해석 (아래 주석에 직접 작성해 보세요)\n",
        "# 상관계수 값: -0.235\n",
        "# 부호와 크기를 통한 관계 설명: 상관계수 값은 약 -0.235로 음수이며 절대값이 0에 가깝습니다.\n",
        "# 이는 부리 길이와 부리 두께 사이에 약한 음의 상관관계가 있음을 나타냅니다.\n",
        "# 즉, 부리 길이가 길어질수록 부리 두께는 약간 얇아지는 경향이 있지만, 그 관계가 매우 강하지는 않습니다.\n",
        "# 이는 문제 1에서 확인한 산점도에서 두 변수 간에 명확한 하나의 직선 관계보다는 여러 그룹으로 나뉘어 분포하는 패턴과 일치합니다."
      ]
    },
    {
      "cell_type": "markdown",
      "metadata": {
        "id": "Q2qOpneM3CR7"
      },
      "source": [
        "### 🤔 생각해 볼 문제:\n",
        "\n",
        "두 변수의 상관계수가 -0.23으로 계산되었습니다. 이 사실이 '부리 길이가 길어지는 것이 부리 두께를 얇아지게 하는 원인이다'라는 것을 증명하나요? '상관관계는 인과관계가 아니다'라는, 데이터 분석에서 가장 중요한 원칙 중 하나를 이 예시로 설명해 봅시다.\n"
      ]
    },
    {
      "cell_type": "markdown",
      "metadata": {
        "id": "fb387bb1"
      },
      "source": [
        "### 🤔 생각해 볼 문제 결과:\n",
        "\n",
        "상관계수가 -0.23으로 계산되었다는 사실만으로는 '부리 길이가 길어지는 것이 부리 두께를 얇아지게 하는 원인이다'라고 결론 내릴 수 없습니다. 이는 데이터 분석에서 매우 중요한 원칙인 **'상관관계는 인과관계가 아니다(Correlation does not imply causation)'**를 보여주는 예시입니다.\n",
        "\n",
        "**이유:**\n",
        "\n",
        "1.  **방향성의 문제:** 상관계수는 두 변수가 함께 움직이는 경향만을 보여줄 뿐, 어느 변수가 원인이고 어느 변수가 결과인지는 알려주지 않습니다. 부리 길이가 두께에 영향을 주는지, 두께가 길이에 영향을 주는지, 아니면 둘 다 다른 요인에 의해 영향을 받는지 알 수 없습니다.\n",
        "2.  **숨겨진 변수(교란변수)의 존재:** 두 변수 사이에 상관관계가 나타나더라도, 실제로는 제3의 다른 변수가 두 변수 모두에게 영향을 미쳐서 그런 관계처럼 보이는 경우가 많습니다. 펭귄 데이터의 경우, '펭귄의 종류(species)'가 바로 이러한 숨겨진 변수일 수 있습니다. 서로 다른 종류의 펭귄은 각기 다른 평균적인 부리 길이와 두께를 가지고 있으며, 이 '종류' 때문에 부리 길이와 두께 사이에 상관관계가 관찰되는 것일 수 있습니다. (문제 1에서 종류별로 색칠했을 때 패턴이 명확히 구분된 것을 생각해보세요.)\n",
        "\n",
        "**결론:**\n",
        "\n",
        "부리 길이와 부리 두께 사이에 약한 음의 상관관계가 있다는 것은 사실이지만, 이것이 부리 길이가 두께의 직접적인 원인이라고 말할 수는 없습니다. 이 관계는 펭귄의 종류와 같은 다른 요인들에 의해 설명될 가능성이 높습니다. 인과관계를 주장하려면 단순히 상관관계를 넘어선 더 엄격한 실험 설계나 추가적인 분석(예: 회귀분석에서 다른 변수를 통제하는 등)이 필요합니다."
      ]
    },
    {
      "cell_type": "markdown",
      "source": [],
      "metadata": {
        "id": "j8mhTNdKgNP_"
      }
    },
    {
      "cell_type": "markdown",
      "metadata": {
        "id": "7U8DT_X43CR7"
      },
      "source": [
        "---\n"
      ]
    },
    {
      "cell_type": "markdown",
      "metadata": {
        "id": "pZNu7GAT3CR7"
      },
      "source": [
        "## 문제 3 (난이도: 중): 관계를 대표하는 공식 만들기, 선형 회귀\n",
        "\n",
        "> **🎯 목표:** 두 변수의 관계를 가장 잘 나타내는 하나의 직선(회귀선)을 찾고, 그 직선을 `y = a + bx` 형태의 **회귀식**으로 표현하는 방법을 학습합니다.\n"
      ]
    },
    {
      "cell_type": "markdown",
      "metadata": {
        "id": "0zLGEkq63CR7"
      },
      "source": [
        "### 💡 핵심 개념:\n",
        "\n",
        "**선형 회귀분석**은 흩어진 점들 사이를 가장 잘 가로지르는 '최적의 직선'을 찾는 과정입니다. 이 직선을 통해 한 변수(독립변수, x)의 값을 알 때 다른 변수(종속변수, y)의 값을 예측할 수 있습니다.\n",
        "\n",
        "- **종속변수 (y, 반응변수):** 우리가 예측하고 싶은 대상 (예: 몸무게)\n",
        "- **독립변수 (x, 설명변수):** 예측의 근거가 되는 변수 (예: 날개 길이)\n",
        "- **회귀식 (`y = a + bx`):**\n",
        "  - `a` (절편, Intercept): 독립변수 x가 0일 때의 y 예측값. 직선이 y축과 만나는 지점입니다.\n",
        "  - `b` (기울기, Coefficient): 독립변수 x가 1만큼 증가할 때 y가 얼마나 변하는지를 나타냅니다. 관계의 핵심적인 효과를 보여줍니다.\n"
      ]
    },
    {
      "cell_type": "markdown",
      "metadata": {
        "id": "Vi5CHOxv3CR8"
      },
      "source": [
        "### 📌 수행 과제:\n",
        "\n",
        "1. `statsmodels` 라이브러리의 `ols` 함수를 사용하여 **'날개 길이(`flipper_length_mm`)'로 '몸무게(`body_mass_g`)'를 예측**하는 회귀 모델을 만드세요.\n",
        "2. 학습된 모델의 `.summary()` 메소드를 호출하여 분석 결과표를 출력하세요.\n",
        "3. 결과표의 `coef` 열에서 **절편(Intercept)**과 **기울기(flipper_length_mm)** 값을 찾아 회귀식을 완성해 보세요.\n"
      ]
    },
    {
      "cell_type": "markdown",
      "metadata": {
        "id": "O7Or5j9a3CR8"
      },
      "source": [
        "### ✍️ 코드 작성:\n"
      ]
    },
    {
      "cell_type": "code",
      "execution_count": 9,
      "metadata": {
        "id": "-zALZdX_3CR8",
        "colab": {
          "base_uri": "https://localhost:8080/"
        },
        "outputId": "cafb2e33-b350-4928-906a-f337d288f7ba"
      },
      "outputs": [
        {
          "output_type": "stream",
          "name": "stdout",
          "text": [
            "                            OLS Regression Results                            \n",
            "==============================================================================\n",
            "Dep. Variable:            body_mass_g   R-squared:                       0.759\n",
            "Model:                            OLS   Adj. R-squared:                  0.758\n",
            "Method:                 Least Squares   F-statistic:                     1071.\n",
            "Date:                Wed, 10 Sep 2025   Prob (F-statistic):          4.37e-107\n",
            "Time:                        02:49:12   Log-Likelihood:                -2528.4\n",
            "No. Observations:                 342   AIC:                             5061.\n",
            "Df Residuals:                     340   BIC:                             5069.\n",
            "Df Model:                           1                                         \n",
            "Covariance Type:            nonrobust                                         \n",
            "=====================================================================================\n",
            "                        coef    std err          t      P>|t|      [0.025      0.975]\n",
            "-------------------------------------------------------------------------------------\n",
            "Intercept         -5780.8314    305.815    -18.903      0.000   -6382.358   -5179.305\n",
            "flipper_length_mm    49.6856      1.518     32.722      0.000      46.699      52.672\n",
            "==============================================================================\n",
            "Omnibus:                        5.634   Durbin-Watson:                   2.176\n",
            "Prob(Omnibus):                  0.060   Jarque-Bera (JB):                5.585\n",
            "Skew:                           0.313   Prob(JB):                       0.0613\n",
            "Kurtosis:                       3.019   Cond. No.                     2.89e+03\n",
            "==============================================================================\n",
            "\n",
            "Notes:\n",
            "[1] Standard Errors assume that the covariance matrix of the errors is correctly specified.\n",
            "[2] The condition number is large, 2.89e+03. This might indicate that there are\n",
            "strong multicollinearity or other numerical problems.\n"
          ]
        }
      ],
      "source": [
        "# 모델 학습 전, 사용할 변수들에 빈칸이 있는 행들을 제거합니다.\n",
        "penguins_cleaned = penguins.dropna(subset=['body_mass_g', 'flipper_length_mm'])\n",
        "\n",
        "# 1. 여기에 OLS 회귀 모델을 학습시키는 코드를 작성하세요.\n",
        "# smf.ols() 함수를 사용하고, formula는 '종속변수 ~ 독립변수' 형태로 작성합니다.\n",
        "# 예: formula='body_mass_g ~ flipper_length_mm'\n",
        "import statsmodels.formula.api as smf\n",
        "model = smf.ols(formula='body_mass_g ~ flipper_length_mm', data=penguins_cleaned).fit()\n",
        "\n",
        "# 2. 여기에 모델의 요약 결과표를 출력하는 코드를 작성하세요.\n",
        "# 위에서 만든 model 객체에 .summary() 메소드를 적용합니다.\n",
        "print(model.summary())\n",
        "\n",
        "# 3. 결과 해석 (아래 주석에 직접 작성해 보세요)\n",
        "# 절편(a) 값: -5780.8314 (Intercept의 coef 값)\n",
        "# 기울기(b) 값: 49.6856 (flipper_length_mm의 coef 값)\n",
        "# 완성된 회귀식 (몸무게 = a + b * 날개길이): 몸무게 = -5780.8314 + 49.6856 * 날개 길이\n",
        "\n",
        "# 요약표 해석 (주요 부분만):\n",
        "# Dep. Variable: body_mass_g - 종속 변수 (예측 대상): 몸무게\n",
        "# R-squared: 0.759 - 결정계수: 모델이 몸무게 변화의 약 75.9%를 설명함\n",
        "# Adj. R-squared: 0.758 - 수정된 결정계수: 독립변수 개수를 고려한 설명력\n",
        "# F-statistic: 1071. - F 통계량: 모델의 유의성 검정 결과\n",
        "# Prob (F-statistic): 4.37e-107 - F 검정 유의확률 (p-value): 모델이 통계적으로 매우 유의미함 (0에 가까움)\n",
        "# coef: 회귀 계수 (기울기, 절편)\n",
        "# std err: 표준 오차 (계수 추정치의 정밀도)\n",
        "# t: t 통계량 (계수의 유의성 검정 통계량)\n",
        "# P>|t|: p-value (해당 계수가 0일 확률 - 0.05 미만이면 통계적으로 유의미)\n",
        "# [0.025      0.975]: 95% 신뢰구간 (계수 값의 95% 신뢰 범위)\n",
        "# Intercept: 절편. 날개 길이가 0일 때 몸무게 예측값 (해석에 주의 필요 - 날개 길이 0은 현실적이지 않음)\n",
        "# flipper_length_mm: 날개 길이 변수의 기울기. 날개 길이가 1mm 늘어날 때 몸무게가 평균 49.6856g 증가함을 의미\n",
        "\n",
        "# Notes:\n",
        "\n",
        "# [1] 표준 오차는 오차의 공분산 행렬이 올바르게 지정되었다고 가정합니다.\n",
        "\n",
        "# [2] 조건수가 2.89e+03으로 큽니다. 이는 다중공선성이나 다른 수치적인 문제가 있을 수 있음을 나타냅니다."
      ]
    },
    {
      "cell_type": "markdown",
      "metadata": {
        "id": "cdshJMbl3CR8"
      },
      "source": [
        "### 🤔 생각해 볼 문제:\n",
        "\n",
        "회귀식의 기울기(b)는 '날개 길이가 1mm 늘어날 때 몸무게가 평균적으로 얼마나 변하는지'를 나타냅니다. 이 기울기 값을 이용해, 날개 길이가 우리 데이터의 평균보다 10mm 더 긴 펭귄은 평균적인 펭귄보다 몸무게가 약 몇 g 더 무거울 것이라고 구체적인 숫자로 예측해 봅시다.\n"
      ]
    },
    {
      "cell_type": "code",
      "metadata": {
        "colab": {
          "base_uri": "https://localhost:8080/"
        },
        "id": "3f9bdf35",
        "outputId": "502fff81-6bec-4b5d-b6ee-8eb16d7e356d"
      },
      "source": [
        "# 회귀 모델의 기울기 값 가져오기\n",
        "slope = model.params['flipper_length_mm']\n",
        "\n",
        "# 날개 길이가 10mm 더 길 때 예상되는 몸무게 변화량 계산\n",
        "predicted_mass_increase = slope * 10\n",
        "\n",
        "print(f\"날개 길이가 평균보다 10mm 더 긴 펭귄은 평균적인 펭귄보다 몸무게가 약 {predicted_mass_increase:.2f} g 더 무거울 것으로 예측됩니다.\")"
      ],
      "execution_count": 10,
      "outputs": [
        {
          "output_type": "stream",
          "name": "stdout",
          "text": [
            "날개 길이가 평균보다 10mm 더 긴 펭귄은 평균적인 펭귄보다 몸무게가 약 496.86 g 더 무거울 것으로 예측됩니다.\n"
          ]
        }
      ]
    },
    {
      "cell_type": "markdown",
      "metadata": {
        "id": "fff00ebf"
      },
      "source": [
        "### 🤔 생각해 볼 문제 결과:\n",
        "\n",
        "회귀 모델의 기울기 값은 약 49.69입니다. 이는 날개 길이가 1mm 증가할 때 몸무게가 평균적으로 약 49.69g 증가한다는 의미입니다.\n",
        "\n",
        "따라서 날개 길이가 우리 데이터의 평균보다 10mm 더 긴 펭귄은, 회귀 모델에 따르면 평균적인 펭귄보다 몸무게가 약 `49.69 * 10 = 496.9`g 더 무거울 것으로 예측할 수 있습니다.\n",
        "\n",
        "이 값은 모델이 학습한 데이터의 패턴을 기반으로 한 예측이며, 실제 개체마다 차이가 있을 수 있습니다."
      ]
    },
    {
      "cell_type": "markdown",
      "source": [],
      "metadata": {
        "id": "WUJzl4zhh5QM"
      }
    },
    {
      "cell_type": "markdown",
      "metadata": {
        "id": "KqC7GJj13CR8"
      },
      "source": [
        "---\n"
      ]
    },
    {
      "cell_type": "markdown",
      "metadata": {
        "id": "mXlHk-lW3CR8"
      },
      "source": [
        "## 문제 4 (난이도: 중): 회귀계수의 의미와 통계적 유의성 판단하기\n",
        "\n",
        "> **🎯 목표:** 회귀식의 **기울기(b)**가 정말로 의미 있는 값인지, 아니면 그냥 우연히 나온 값인지 통계적으로 판단하는 방법을 배웁니다.\n"
      ]
    },
    {
      "cell_type": "markdown",
      "metadata": {
        "id": "e47z9gsf3CR8"
      },
      "source": [
        "### 💡 핵심 개념:\n",
        "\n",
        "**회귀계수의 가설검정**은 \"이 기울기 값이 정말 0이 아니라고 말할 수 있는가?\"를 검증하는 과정입니다. 여기서 **p-value(유의확률)**가 핵심적인 역할을 합니다.\n",
        "\n",
        "- **귀무가설 (H₀):** \"두 변수는 관계가 없다. 즉, 기울기는 0이다.\" (우리가 발견한 관계는 우연이다)\n",
        "- **대립가설 (H₁):** \"두 변수는 관계가 있다. 즉, 기울기는 0이 아니다.\" (우리가 발견한 관계는 진짜다)\n",
        "- **p-value:** **귀무가설이 맞다고 가정할 때**, 우리가 현재 데이터에서 관찰한 것과 같거나 더 극단적인 결과가 우연히 나타날 확률입니다.\n",
        "  - **p-value가 매우 작으면 (보통 0.05 미만):** \"이런 일이 우연히 일어날 확률은 매우 낮다. 따라서 귀무가설이 틀렸을 것이다.\" 라고 판단하고, 두 변수의 관계가 **통계적으로 유의미하다**고 결론 내립니다.\n"
      ]
    },
    {
      "cell_type": "markdown",
      "metadata": {
        "id": "eFVz25jk3CR8"
      },
      "source": [
        "### 📌 수행 과제:\n",
        "\n",
        "1. 문제 3에서 출력한 `.summary()` 결과표를 다시 확인합니다.\n",
        "2. `flipper_length_mm` 행에서 `P>|t|` 열의 값(p-value)을 찾으세요.\n",
        "3. 이 p-value가 일반적인 유의수준인 0.05보다 작은지 확인하고, 이를 근거로 \"펭귄의 날개 길이가 몸무게에 미치는 영향이 통계적으로 유의미한지\" 결론을 내리세요.\n"
      ]
    },
    {
      "cell_type": "markdown",
      "metadata": {
        "id": "KpaSMb953CR8"
      },
      "source": [
        "### ✍️ 코드 작성:\n"
      ]
    },
    {
      "cell_type": "code",
      "execution_count": 12,
      "metadata": {
        "id": "if1XE8jE3CR8",
        "colab": {
          "base_uri": "https://localhost:8080/"
        },
        "outputId": "a0b7ce4f-cd3f-4aa5-8db9-90e8626304c4"
      },
      "outputs": [
        {
          "output_type": "stream",
          "name": "stdout",
          "text": [
            "                            OLS Regression Results                            \n",
            "==============================================================================\n",
            "Dep. Variable:            body_mass_g   R-squared:                       0.759\n",
            "Model:                            OLS   Adj. R-squared:                  0.758\n",
            "Method:                 Least Squares   F-statistic:                     1071.\n",
            "Date:                Wed, 10 Sep 2025   Prob (F-statistic):          4.37e-107\n",
            "Time:                        02:53:19   Log-Likelihood:                -2528.4\n",
            "No. Observations:                 342   AIC:                             5061.\n",
            "Df Residuals:                     340   BIC:                             5069.\n",
            "Df Model:                           1                                         \n",
            "Covariance Type:            nonrobust                                         \n",
            "=====================================================================================\n",
            "                        coef    std err          t      P>|t|      [0.025      0.975]\n",
            "-------------------------------------------------------------------------------------\n",
            "Intercept         -5780.8314    305.815    -18.903      0.000   -6382.358   -5179.305\n",
            "flipper_length_mm    49.6856      1.518     32.722      0.000      46.699      52.672\n",
            "==============================================================================\n",
            "Omnibus:                        5.634   Durbin-Watson:                   2.176\n",
            "Prob(Omnibus):                  0.060   Jarque-Bera (JB):                5.585\n",
            "Skew:                           0.313   Prob(JB):                       0.0613\n",
            "Kurtosis:                       3.019   Cond. No.                     2.89e+03\n",
            "==============================================================================\n",
            "\n",
            "Notes:\n",
            "[1] Standard Errors assume that the covariance matrix of the errors is correctly specified.\n",
            "[2] The condition number is large, 2.89e+03. This might indicate that there are\n",
            "strong multicollinearity or other numerical problems.\n"
          ]
        }
      ],
      "source": [
        "# 문제 3에서 만든 모델의 summary를 다시 출력하여 p-value를 확인합니다.\n",
        "print(model.summary())\n",
        "\n",
        "# 아래 주석에 직접 해석을 작성해보세요.\n",
        "\n",
        "# 1. flipper_length_mm 계수의 p-value (`P>|t|` 값) 찾기\n",
        "# p-value: 0.000\n",
        "\n",
        "# 2. 가설 검정 결과 해석\n",
        "# p-value가 0.05보다 작은가?: 네, 0.000은 0.05보다 훨씬 작습니다.\n",
        "# 결론 (날개 길이가 몸무게에 미치는 영향은 통계적으로 유의미한가?): p-value가 0.05 미만이므로, 날개 길이가 몸무게에 미치는 영향은 통계적으로 유의미하다고 결론 내릴 수 있습니다. 이는 날개 길이와 몸무게 사이에 우연이라고 보기 어려운 관계가 존재함을 의미합니다."
      ]
    },
    {
      "cell_type": "markdown",
      "metadata": {
        "id": "lEkv06qU3CR8"
      },
      "source": [
        "### 🤔 생각해 볼 문제:\n",
        "\n",
        "이 분석 결과를 통계에 대해 전혀 모르는 친구에게 설명해야 합니다. \"p-value가 0.000이라서 귀무가설을 기각했다\"라는 어려운 말 대신, \"날개 길이가 몸무게와 정말 관계가 있다\"라는 결론을 어떻게 더 쉽고 직관적으로 뒷받침하여 설명할 수 있을까요?\n"
      ]
    },
    {
      "cell_type": "markdown",
      "metadata": {
        "id": "f5de105c"
      },
      "source": [
        "### 🤔 생각해 볼 문제 결과:\n",
        "\n",
        "통계에 대해 잘 모르는 친구에게 날개 길이와 몸무게의 관계가 통계적으로 유의미하다는 것을 설명할 때는 어려운 통계 용어 대신 다음과 같은 방식으로 이야기해 줄 수 있습니다.\n",
        "\n",
        "\"우리가 펭귄 데이터를 분석해보니, **날개 길이가 길수록 몸무게가 더 나가는 경향**이 있다는 것을 발견했어. 그런데 이게 그냥 우연히 그렇게 보인 건지, 아니면 정말로 날개 길이와 몸무게 사이에 의미 있는 관계가 있는 건지 확인해봤거든?\"\n",
        "\n",
        "\"통계 분석 결과, **이런 데이터 패턴이 단순히 우연일 확률이 거의 0%에 가깝다는 것**을 알게 됐어. 만약 날개 길이와 몸무게가 전혀 관계가 없다면 이런 결과가 나올 가능성이 극히 낮다는 거지.\"\n",
        "\n",
        "\"그러니까 우리가 발견한 '날개 길이가 길면 몸무게가 더 나간다'는 이 관계는 **우연이 아니라 실제 펭귄들 사이에서 나타나는 진짜 관계**라고 자신 있게 말할 수 있어!\"\n",
        "\n",
        "이렇게 설명하면, p-value나 귀무가설 같은 용어 없이도 분석 결과의 핵심인 '관계의 유의미성'을 직관적으로 전달할 수 있습니다. 중요한 것은 **\"우연일 확률이 매우 낮다\"**는 점을 강조하여, 발견된 패턴이 단순한 우연이 아님을 이해시키는 것입니다."
      ]
    },
    {
      "cell_type": "markdown",
      "source": [],
      "metadata": {
        "id": "15Vh4poViuIr"
      }
    },
    {
      "cell_type": "markdown",
      "metadata": {
        "id": "QhUm2jt23CR9"
      },
      "source": [
        "---\n"
      ]
    },
    {
      "cell_type": "markdown",
      "metadata": {
        "id": "IIa0AQdk3CR9"
      },
      "source": [
        "## 문제 5 (난이도: 상): 모델 신뢰도 평가 - 결정계수와 잔차 진단\n",
        "\n",
        "> **🎯 목표:** 완성된 회귀 모델이 데이터를 얼마나 잘 설명하는지(**결정계수**) 평가하고, 분석 결과를 믿을 수 있는지의 전제 조건인 **오차(잔차)의 등분산성**을 그래프로 진단합니다.\n"
      ]
    },
    {
      "cell_type": "markdown",
      "metadata": {
        "id": "WteqoDwq3CR9"
      },
      "source": [
        "### 💡 핵심 개념:\n",
        "\n",
        "- **결정계수 (R-squared):** 회귀 모델의 **설명력**을 나타내는 지표로, 0과 1 사이의 값을 가집니다. 1에 가까울수록 모델이 데이터를 잘 설명한다는 뜻입니다. 예를 들어 R-squared가 0.75라면, \"종속변수(y)의 전체 변화 중 75%를 우리 모델(독립변수 x)이 설명하고 있다\"는 의미입니다.\n",
        "\n",
        "- **잔차 (Residual):** 모델의 **오차**를 의미합니다. 즉, `실제 y값 - 모델이 예측한 y값` 입니다. 좋은 모델이라면 이 오차(잔차)들이 특별한 패턴 없이 무작위로 흩어져 있어야 합니다.\n",
        "\n",
        "- **잔차 산점도 (Residual Plot):** 이 잔차들을 시각화한 그래프입니다. x축에 예측값을, y축에 잔차를 놓고 점을 찍습니다.\n",
        "  - **좋은 패턴 (등분산성):** 점들이 y=0 선을 중심으로 특별한 모양 없이 골고루 흩어져 있습니다. 이는 모델의 예측 오차가 일정하다는 의미로, 분석 결과를 신뢰할 수 있습니다.\n",
        "  - **나쁜 패턴 (이분산성):** 점들이 깔때기 모양, 부채꼴 모양 등 특정 패턴을 보입니다. 이는 예측값에 따라 오차의 크기가 달라진다는 의미로, 모델의 신뢰성에 문제가 있을 수 있습니다.\n"
      ]
    },
    {
      "cell_type": "markdown",
      "metadata": {
        "id": "4HC-8E5j3CR9"
      },
      "source": [
        "### 📌 수행 과제:\n",
        "\n",
        "1. 문제 3의 `.summary()` 결과표에서 `R-squared`(결정계수) 값을 찾아, 우리 모델의 설명력을 문장으로 해석해 보세요.\n",
        "2. 모델의 예측값과 잔차를 계산하세요.\n",
        "3. x축을 예측값, y축을 잔차로 하는 **잔차 산점도**를 그리세요.\n",
        "4. 그려진 잔차 산점도에 특별한 패턴이 보이는지, 아니면 무작위로 흩어져 있는지 관찰하고, 이를 바탕으로 모델의 신뢰성에 대한 자신의 생각을 서술하세요.\n"
      ]
    },
    {
      "cell_type": "markdown",
      "source": [],
      "metadata": {
        "id": "tdnnXG05jU2Y"
      }
    },
    {
      "cell_type": "markdown",
      "metadata": {
        "id": "JhEoZrmf3CR9"
      },
      "source": [
        "### ✍️ 코드 작성:\n"
      ]
    },
    {
      "cell_type": "code",
      "execution_count": 13,
      "metadata": {
        "id": "SGY--5wG3CR9",
        "colab": {
          "base_uri": "https://localhost:8080/",
          "height": 562
        },
        "outputId": "beefc32c-5a60-4693-a5b7-3182b4f192d6"
      },
      "outputs": [
        {
          "output_type": "display_data",
          "data": {
            "text/plain": [
              "<Figure size 800x600 with 1 Axes>"
            ],
            "image/png": "[encoded data removed]"
          },
          "metadata": {}
        }
      ],
      "source": [
        "# 1. 결정계수 해석 (summary 표를 보고 직접 작성)\n",
        "# R-squared 값: 0.759\n",
        "# 설명력 해석: R-squared 값이 약 0.759이므로, 날개 길이가 펭귄 몸무게의 변동량 중 약 75.9%를 설명한다고 할 수 있습니다. 즉, 날개 길이가 길고 짧음에 따라 펭귄 몸무게가 결정되는 부분은 75.9% 정도이며, 나머지 약 24.1%는 날개 길이 외 다른 요인에 의해 결정된다고 해석할 수 있습니다.\n",
        "\n",
        "# 2. 여기에 모델의 예측값과 잔차를 계산하는 코드를 작성하세요.\n",
        "# 예측값: model.predict() 함수 사용\n",
        "# 잔차: model.resid 속성 사용\n",
        "fitted_values = model.predict()\n",
        "residuals = model.resid\n",
        "\n",
        "# 3. 여기에 잔차 산점도를 그리는 코드를 작성하세요.\n",
        "# sns.residplot() 함수를 사용하고, x에는 예측값, y에는 잔차를 지정합니다.\n",
        "plt.figure(figsize=(8, 6))\n",
        "sns.residplot(x=fitted_values, y=residuals)\n",
        "plt.title('회귀 모델 잔차 산점도')\n",
        "plt.xlabel('예측값')\n",
        "plt.ylabel('잔차')\n",
        "plt.axhline(0, color='red', linestyle='--') # 잔차가 0인 기준선 표시\n",
        "plt.show()\n",
        "\n",
        "# 4. 잔차 산점도 패턴 해석 (그래프를 보고 직접 작성)\n",
        "# 관찰된 패턴 (무작위인가, 특정 모양이 있는가?): 잔차 산점도를 보면, 잔차들이 예측값에 따라 특별한 패턴(예: 깔때기 모양) 없이 0을 중심으로 비교적 무작위로 흩어져 있는 것처럼 보입니다. 하지만 예측값이 커질수록 잔차의 분산이 약간 커지는 경향도 관찰될 수 있습니다.\n",
        "# 모델 신뢰도에 대한 생각: 잔차가 완전히 무작위는 아닐 가능성(약한 이분산성)이 있지만, 심각한 패턴은 보이지 않아 기본적인 선형 회귀 모델 결과 해석에 큰 무리는 없을 것으로 생각됩니다. 그러나 더 정교한 분석을 위해서는 잔차의 등분산성 가정을 추가로 확인하거나 변수 변환, 다른 모델 고려 등이 필요할 수 있습니다."
      ]
    },
    {
      "cell_type": "markdown",
      "metadata": {
        "id": "sB9x2MB93CR9"
      },
      "source": [
        "### 🤔 생각해 볼 문제:\n",
        "\n",
        "우리 모델의 결정계수(R-squared)는 약 0.76입니다. 이는 날개 길이가 펭귄 몸무게 변화량의 76%를 설명한다는 뜻입니다. 그렇다면 설명되지 않는 나머지 24%의 변화는 어디에서 오는 차이일까요? 우리 모델이 놓치고 있는, 펭귄의 몸무게에 영향을 줄 만한 다른 요인들은 무엇이 있을지 데이터에 근거하여 추측해 봅시다.\n"
      ]
    },
    {
      "cell_type": "markdown",
      "metadata": {
        "id": "2c3037b9"
      },
      "source": [
        "### 🤔 생각해 볼 문제 결과:\n",
        "\n",
        "우리 모델의 결정계수(R-squared)가 약 0.76이라는 것은, 날개 길이만으로는 펭귄 몸무게의 변동 중 약 76%만 설명할 수 있고, 나머지 약 24%는 다른 요인들에 의해 결정된다는 의미입니다. 데이터셋(`penguins`)에 포함된 다른 변수들을 살펴보면, 몸무게에 영향을 줄 만한 잠재적인 요인들을 추측해 볼 수 있습니다.\n",
        "\n",
        "데이터셋에는 다음과 같은 정보가 포함되어 있습니다:\n",
        "\n",
        "*   `species` (펭귄 종류): 문제 1에서 확인했듯이, 종류별로 부리 길이와 두께 패턴이 달랐습니다. 마찬가지로 펭귄 종류에 따라 평균적인 몸무게 차이가 클 수 있으며, 이는 몸무게 변동의 상당 부분을 설명할 수 있는 중요한 요인일 가능성이 높습니다.\n",
        "*   `island` (서식지 섬): 펭귄이 사는 섬 환경에 따라 먹이의 종류나 양, 경쟁 등 다양한 요인이 달라질 수 있으며, 이것이 몸무게에 영향을 미칠 수 있습니다.\n",
        "*   `bill_length_mm` (부리 길이) 및 `bill_depth_mm` (부리 두께): 비록 개별적으로는 날개 길이만큼 설명력이 높지 않을 수 있지만, 부리의 형태와 크기도 먹이 섭취 방식 등과 관련되어 몸무게에 영향을 줄 수 있습니다.\n",
        "*   `sex` (성별): 대부분의 동물 종에서 수컷이 암컷보다 체중이 더 나가는 경향이 있듯이, 펭귄에서도 성별에 따른 몸무게 차이가 존재할 수 있습니다.\n",
        "\n",
        "이러한 변수들을 회귀 모델에 추가적인 독립변수로 포함시킨다면, 모델의 설명력(R-squared)을 높이고 몸무게 변동의 나머지 24%를 더 잘 이해하는 데 도움이 될 것입니다. 특히 'species'와 'sex' 변수는 범주형 데이터이므로 회귀 모델에 포함시키기 위해 적절한 처리가 필요합니다 (예: 원-핫 인코딩 등)."
      ]
    },
    {
      "cell_type": "markdown",
      "metadata": {
        "id": "5IjU9DhE3CSD"
      },
      "source": []
    },
    {
      "cell_type": "code",
      "source": [],
      "metadata": {
        "id": "hxMd0Opaj7C4"
      },
      "execution_count": null,
      "outputs": []
    },
    {
      "cell_type": "markdown",
      "metadata": {
        "id": "6fc40293"
      },
      "source": [
        "## 데이터 분석 이론 요약 및 주요 사항\n",
        "\n",
        "### 문제 1: 산점도 (Scatter Plot)\n",
        "\n",
        "*   **개념:** 두 양적 변수 사이의 관계를 점으로 시각화하는 그래프입니다.\n",
        "*   **알아야 할 주요 사항:**\n",
        "    *   점의 분포 패턴을 통해 두 변수의 관계 방향(양의 관계, 음의 관계)과 대략적인 강도를 눈으로 파악할 수 있습니다.\n",
        "    *   데이터 내부에 숨겨진 그룹이나 이상치 등을 시각적으로 발견하는 데 유용합니다.\n",
        "    *   `seaborn` 라이브러리의 `scatterplot` 함수를 주로 사용합니다. `hue` 인자를 사용하여 세 번째 변수(주로 범주형)를 색깔로 표현하면 더 풍부한 정보를 얻을 수 있습니다.\n",
        "\n",
        "### 문제 2: 상관계수 (Correlation Coefficient)\n",
        "\n",
        "*   **개념:** 두 양적 변수 사이의 선형 관계의 방향과 강도를 -1에서 +1 사이의 숫자로 요약하는 지표입니다. 피어슨 상관계수가 가장 흔하게 사용됩니다.\n",
        "*   **알아야 할 주요 사항:**\n",
        "    *   부호(`+` 또는 `-`)는 관계의 방향을 나타냅니다.\n",
        "    *   절댓값(0에 가까울수록 약하고, 1에 가까울수록 강함)은 관계의 강도를 나타냅니다.\n",
        "    *   **중요:** **상관관계는 인과관계를 의미하지 않습니다.** (Correlation does not imply causation). 숨겨진 다른 변수가 두 변수 모두에게 영향을 미쳐 상관관계가 나타나는 경우가 많습니다.\n",
        "    *   `pandas` 데이터프레임의 `.corr()` 메소드를 사용하여 계산할 수 있습니다. 결측치는 계산 전에 제거해야 합니다 (`.dropna()`).\n",
        "\n",
        "### 문제 3: 선형 회귀 (Linear Regression)\n",
        "\n",
        "*   **개념:** 하나의 독립변수(x)로 종속변수(y)를 예측하는 가장 잘 맞는 직선(`y = a + bx`)을 찾는 통계 기법입니다.\n",
        "*   **알아야 할 주요 사항:**\n",
        "    *   `y`는 예측하고 싶은 종속변수, `x`는 예측에 사용하는 독립변수입니다.\n",
        "    *   `a`는 절편(Intercept)으로, x가 0일 때의 y 예측값입니다.\n",
        "    *   `b`는 기울기(Coefficient)로, x가 1단위 증가할 때 y가 평균적으로 얼마나 변하는지를 나타냅니다. 관계의 핵심 효과입니다.\n",
        "    *   `statsmodels` 라이브러리의 `ols` 함수를 사용하여 모델을 쉽게 만들고 학습시킬 수 있습니다. `formula` 인자로 모델 식(`'종속변수 ~ 독립변수'`)을 지정합니다.\n",
        "    *   `.fit()` 메소드로 모델을 학습시킨 후, `.summary()` 메소드로 상세 결과를 확인할 수 있습니다.\n",
        "\n",
        "### 문제 4: 회귀계수의 통계적 유의성 (Statistical Significance of Coefficients)\n",
        "\n",
        "*   **개념:** 회귀 모델에서 계산된 독립변수의 기울기(계수)가 실제 모집단에서도 0이 아니라고(즉, 유의미한 관계가 존재한다고) 통계적으로 말할 수 있는지 판단하는 과정입니다. p-value를 통해 판단합니다.\n",
        "*   **알아야 할 주요 사항:**\n",
        "    *   **귀무가설 (H₀):** 해당 독립변수의 기울기는 0이다 (관계 없음).\n",
        "    *   **대립가설 (H₁):** 해당 독립변수의 기울기는 0이 아니다 (관계 있음).\n",
        "    *   **p-value:** 귀무가설이 옳다고 가정했을 때, 현재 데이터와 같은 결과가 우연히 나타날 확률입니다.\n",
        "    *   **판단 기준:** 일반적으로 p-value가 유의수준(보통 0.05)보다 작으면 귀무가설을 기각하고, 해당 독립변수의 영향이 **통계적으로 유의미하다**고 결론 내립니다.\n",
        "    *   `statsmodels` summary 결과표의 `P>|t|` 열에서 각 계수의 p-value를 확인할 수 있습니다.\n",
        "\n",
        "### 문제 5: 모델 신뢰도 평가 (Model Evaluation)\n",
        "\n",
        "*   **개념:** 회귀 모델이 데이터를 얼마나 잘 설명하는지 평가하고, 모델의 기본 가정이 충족되는지 확인하여 분석 결과의 신뢰성을 판단합니다.\n",
        "*   **알아야 할 주요 사항:**\n",
        "    *   **결정계수 (R-squared):** 모델이 종속변수 변동의 몇 %를 설명하는지를 나타냅니다 (0~1). 1에 가까울수록 설명력이 높습니다. `statsmodels` summary에서 확인합니다.\n",
        "    *   **잔차 (Residual):** 실제값과 모델 예측값의 차이(`실제 y - 예측된 y`)입니다. 모델의 오차를 나타냅니다.\n",
        "    *   **잔차 산점도 (Residual Plot):** 예측값을 x축, 잔차를 y축으로 그린 산점도입니다. 모델의 가정이 잘 충족되는지 시각적으로 확인합니다.\n",
        "    *   **등분산성 (Homoscedasticity):** 잔차의 분산이 예측값의 크기에 상관없이 일정한 상태를 의미합니다. 잔차 산점도에서 점들이 0을 중심으로 특별한 패턴 없이 무작위로 흩어져 보이면 등분산성 가정이 충족될 가능성이 높습니다. 깔때기 모양 등의 패턴이 보이면 이분산성(Heteroscedasticity) 문제가 있을 수 있으며, 이는 모델 신뢰도에 영향을 줄 수 있습니다.\n",
        "    *   `seaborn`의 `residplot` 함수로 잔차 산점도를 쉽게 그릴 수 있습니다.\n",
        "\n",
        "이론들을 잘 이해하고 각 지표와 그래프를 올바르게 해석하는 것이 데이터 분석 결과의 신뢰성을 높이는 데 중요합니다."
      ]
    },
    {
      "cell_type": "markdown",
      "metadata": {
        "id": "cce7946e"
      },
      "source": [
        "### 등분산성(Homoscedasticity) 상세 설명\n",
        "\n",
        "**등분산성**은 회귀 분석의 중요한 가정 중 하나로, 모델의 **잔차(Residual)의 분산이 독립변수(또는 예측값)의 크기에 상관없이 일정해야 함**을 의미합니다. 쉽게 말해, 모델이 예측하는 값의 범위가 작든 크든, 예측에서 발생하는 오차(잔차)의 '흩어진 정도'가 비슷해야 한다는 것입니다.\n",
        "\n",
        "**왜 등분산성이 중요할까요?**\n",
        "\n",
        "1.  **회귀 계수의 신뢰성:** 등분산성 가정이 충족되어야 회귀 계수(기울기)의 표준 오차(Standard Error)를 정확하게 추정할 수 있습니다. 표준 오차는 회귀 계수의 추정치가 얼마나 정밀한지를 나타내며, 이를 바탕으로 회귀 계수의 통계적 유의성(p-value)과 신뢰구간을 계산합니다.\n",
        "2.  **통계적 검정의 타당성:** 등분산성 가정이 깨지면(즉, 이분산성이 나타나면), 회귀 계수의 표준 오차가 잘못 계산되어 p-value나 신뢰구간이 왜곡될 수 있습니다. 이 경우 통계적 검정 결과(예: '이 변수는 유의미하다/유의미하지 않다')를 신뢰하기 어려워집니다.\n",
        "\n",
        "**잔차 산점도를 통한 등분산성 진단:**\n",
        "\n",
        "잔차 산점도(x축: 예측값, y축: 잔차)는 등분산성 가정을 시각적으로 진단하는 가장 기본적인 방법입니다.\n",
        "\n",
        "*   **등분산성(좋은 패턴):** 잔차들이 0을 나타내는 가로선(y=0)을 중심으로 **특별한 모양 없이 무작위로 고르게 흩어져** 보입니다. 예측값이 작을 때나 클 때나 잔차의 흩어진 정도(분산)가 비슷해 보입니다.\n",
        "*   **이분산성(나쁜 패턴):** 잔차들이 특정 패턴을 보입니다. 가장 흔한 형태는 **깔때기 모양(Funnel Shape)**입니다. 예측값이 커짐에 따라 잔차의 분산이 점점 커지거나 작아지는 경우에 나타납니다. 예를 들어, 예측값이 작을 때는 점들이 y=0 근처에 좁게 모여 있다가, 예측값이 커질수록 점점 넓게 퍼지는 모양입니다. 부채꼴 모양으로 나타나기도 합니다.\n",
        "\n",
        "**이분산성 발생 시 대처 방안:**\n",
        "\n",
        "이분산성이 심각하게 관찰된다면 모델의 신뢰도를 높이기 위해 다음과 같은 방법을 고려할 수 있습니다.\n",
        "\n",
        "*   **변수 변환:** 종속변수(y)나 독립변수(x)에 로그 변환, 제곱근 변환 등을 적용하여 분산을 안정화시킬 수 있습니다.\n",
        "*   **가중 최소 제곱법 (Weighted Least Squares, WLS):** 잔차의 분산이 큰 데이터 포인트에 더 적은 가중치를 주어 모델을 학습시키는 방법입니다.\n",
        "*   **다른 모델 고려:** 선형 회귀의 가정을 덜 타는 다른 종류의 회귀 모델을 고려할 수 있습니다.\n",
        "\n",
        "우리 펭귄 데이터의 잔차 산점도에서는 약한 이분산성이 의심되지만(예측값이 클수록 잔차가 약간 더 흩어지는 경향), 아주 심각한 깔때기 모양은 아니므로 기본적인 분석 결과 해석에는 큰 문제가 없을 수 있습니다. 하지만 더 엄밀한 분석을 위해서는 추가적인 진단(예: 통계적 검정)이나 보정 방법 적용을 고려해볼 수 있습니다."
      ]
    }
  ],
  "metadata": {
    "colab": {
      "provenance": [],
      "include_colab_link": true
    },
    "kernelspec": {
      "display_name": "Python 3",
      "name": "python3"
    },
    "language_info": {
      "name": "python"
    }
  },
  "nbformat": 4,
  "nbformat_minor": 0
}