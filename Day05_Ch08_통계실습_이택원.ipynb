{
  "cells": [
    {
      "cell_type": "markdown",
      "metadata": {
        "id": "view-in-github",
        "colab_type": "text"
      },
      "source": [
        "<a href=\"https://colab.research.google.com/github/twlee-dev/lab/blob/main/Day05_Ch08_%ED%86%B5%EA%B3%84%EC%8B%A4%EC%8A%B5_%EC%9D%B4%ED%83%9D%EC%9B%90.ipynb\" target=\"_parent\"><img src=\"https://colab.research.google.com/assets/colab-badge.svg\" alt=\"Open In Colab\"/></a>"
      ]
    },
    {
      "cell_type": "markdown",
      "metadata": {
        "id": "SjkPYxM6M547"
      },
      "source": [
        "## 사전 준비: 라이브러리 및 데이터 로드\n"
      ]
    },
    {
      "cell_type": "code",
      "execution_count": 1,
      "metadata": {
        "id": "Tv5wVbtDM54-",
        "colab": {
          "base_uri": "https://localhost:8080/"
        },
        "outputId": "fec2481e-ba0d-4272-a18b-3b54522ab79a"
      },
      "outputs": [
        {
          "output_type": "stream",
          "name": "stdout",
          "text": [
            "Requirement already satisfied: statsmodels in /usr/local/lib/python3.12/dist-packages (0.14.5)\n",
            "Requirement already satisfied: numpy<3,>=1.22.3 in /usr/local/lib/python3.12/dist-packages (from statsmodels) (2.0.2)\n",
            "Requirement already satisfied: scipy!=1.9.2,>=1.8 in /usr/local/lib/python3.12/dist-packages (from statsmodels) (1.16.1)\n",
            "Requirement already satisfied: pandas!=2.1.0,>=1.4 in /usr/local/lib/python3.12/dist-packages (from statsmodels) (2.2.2)\n",
            "Requirement already satisfied: patsy>=0.5.6 in /usr/local/lib/python3.12/dist-packages (from statsmodels) (1.0.1)\n",
            "Requirement already satisfied: packaging>=21.3 in /usr/local/lib/python3.12/dist-packages (from statsmodels) (25.0)\n",
            "Requirement already satisfied: python-dateutil>=2.8.2 in /usr/local/lib/python3.12/dist-packages (from pandas!=2.1.0,>=1.4->statsmodels) (2.9.0.post0)\n",
            "Requirement already satisfied: pytz>=2020.1 in /usr/local/lib/python3.12/dist-packages (from pandas!=2.1.0,>=1.4->statsmodels) (2025.2)\n",
            "Requirement already satisfied: tzdata>=2022.7 in /usr/local/lib/python3.12/dist-packages (from pandas!=2.1.0,>=1.4->statsmodels) (2025.2)\n",
            "Requirement already satisfied: six>=1.5 in /usr/local/lib/python3.12/dist-packages (from python-dateutil>=2.8.2->pandas!=2.1.0,>=1.4->statsmodels) (1.17.0)\n",
            "Reading package lists... Done\n",
            "Building dependency tree... Done\n",
            "Reading state information... Done\n",
            "The following NEW packages will be installed:\n",
            "  fonts-nanum\n",
            "0 upgraded, 1 newly installed, 0 to remove and 35 not upgraded.\n",
            "Need to get 10.3 MB of archives.\n",
            "After this operation, 34.1 MB of additional disk space will be used.\n",
            "Get:1 http://archive.ubuntu.com/ubuntu jammy/universe amd64 fonts-nanum all 20200506-1 [10.3 MB]\n",
            "Fetched 10.3 MB in 2s (6,862 kB/s)\n",
            "debconf: unable to initialize frontend: Dialog\n",
            "debconf: (No usable dialog-like program is installed, so the dialog based frontend cannot be used. at /usr/share/perl5/Debconf/FrontEnd/Dialog.pm line 78, <> line 1.)\n",
            "debconf: falling back to frontend: Readline\n",
            "debconf: unable to initialize frontend: Readline\n",
            "debconf: (This frontend requires a controlling tty.)\n",
            "debconf: falling back to frontend: Teletype\n",
            "dpkg-preconfigure: unable to re-open stdin: \n",
            "Selecting previously unselected package fonts-nanum.\n",
            "(Reading database ... 126374 files and directories currently installed.)\n",
            "Preparing to unpack .../fonts-nanum_20200506-1_all.deb ...\n",
            "Unpacking fonts-nanum (20200506-1) ...\n",
            "Setting up fonts-nanum (20200506-1) ...\n",
            "Processing triggers for fontconfig (2.13.1-4.2ubuntu5) ...\n",
            "/usr/share/fonts: caching, new cache contents: 0 fonts, 1 dirs\n",
            "/usr/share/fonts/truetype: caching, new cache contents: 0 fonts, 3 dirs\n",
            "/usr/share/fonts/truetype/humor-sans: caching, new cache contents: 1 fonts, 0 dirs\n",
            "/usr/share/fonts/truetype/liberation: caching, new cache contents: 16 fonts, 0 dirs\n",
            "/usr/share/fonts/truetype/nanum: caching, new cache contents: 12 fonts, 0 dirs\n",
            "/usr/local/share/fonts: caching, new cache contents: 0 fonts, 0 dirs\n",
            "/root/.local/share/fonts: skipping, no such directory\n",
            "/root/.fonts: skipping, no such directory\n",
            "/usr/share/fonts/truetype: skipping, looped directory detected\n",
            "/usr/share/fonts/truetype/humor-sans: skipping, looped directory detected\n",
            "/usr/share/fonts/truetype/liberation: skipping, looped directory detected\n",
            "/usr/share/fonts/truetype/nanum: skipping, looped directory detected\n",
            "/var/cache/fontconfig: cleaning cache directory\n",
            "/root/.cache/fontconfig: not cleaning non-existent cache directory\n",
            "/root/.fontconfig: not cleaning non-existent cache directory\n",
            "fc-cache: succeeded\n"
          ]
        }
      ],
      "source": [
        "# 필요 라이브러리 설치\n",
        "!pip install statsmodels\n",
        "\n",
        "# 코랩에서 한글 폰트 사용을 위한 설정\n",
        "!sudo apt-get install -y fonts-nanum\n",
        "!sudo fc-cache -fv\n",
        "!rm ~/.cache/matplotlib -rf\n",
        "\n",
        "# 런타임 다시 시작 안내\n",
        "# 위 코드 실행 후 상단 메뉴에서 [런타임] > [런타임 다시 시작]을 눌러주세요.\n",
        "# 런타임을 다시 시작해야 한글 폰트가 적용됩니다."
      ]
    },
    {
      "cell_type": "code",
      "execution_count": 1,
      "metadata": {
        "id": "hXQpeSE2M54_"
      },
      "outputs": [],
      "source": [
        "# 런타임 다시 시작 후, 이 셀을 실행하여 라이브러리와 폰트를 로드합니다.\n",
        "import pandas as pd\n",
        "import numpy as np\n",
        "import matplotlib.pyplot as plt\n",
        "import seaborn as sns\n",
        "import statsmodels.formula.api as sm\n",
        "\n",
        "# 한글 폰트 설정\n",
        "plt.rc('font', family='NanumGothic')\n",
        "# plt.rc('font', family='AppleGothic')\n",
        "plt.rcParams['axes.unicode_minus'] = False # 마이너스 기호 깨짐 방지"
      ]
    },
    {
      "cell_type": "code",
      "execution_count": 6,
      "metadata": {
        "id": "Ysx2mzTOM55A",
        "colab": {
          "base_uri": "https://localhost:8080/",
          "height": 206
        },
        "outputId": "0126f33b-f934-4d57-de5d-9838f671c01c"
      },
      "outputs": [
        {
          "output_type": "execute_result",
          "data": {
            "text/plain": [
              "   total_bill   tip     sex smoker  day    time  size\n",
              "0       16.99  1.01  Female     No  Sun  Dinner     2\n",
              "1       10.34  1.66    Male     No  Sun  Dinner     3\n",
              "2       21.01  3.50    Male     No  Sun  Dinner     3\n",
              "3       23.68  3.31    Male     No  Sun  Dinner     2\n",
              "4       24.59  3.61  Female     No  Sun  Dinner     4"
            ],
            "text/html": [
              "\n",
              "  <div id=\"df-11de1cf3-553a-4be1-b8db-7ec222343efd\" class=\"colab-df-container\">\n",
              "    <div>\n",
              "<style scoped>\n",
              "    .dataframe tbody tr th:only-of-type {\n",
              "        vertical-align: middle;\n",
              "    }\n",
              "\n",
              "    .dataframe tbody tr th {\n",
              "        vertical-align: top;\n",
              "    }\n",
              "\n",
              "    .dataframe thead th {\n",
              "        text-align: right;\n",
              "    }\n",
              "</style>\n",
              "<table border=\"1\" class=\"dataframe\">\n",
              "  <thead>\n",
              "    <tr style=\"text-align: right;\">\n",
              "      <th></th>\n",
              "      <th>total_bill</th>\n",
              "      <th>tip</th>\n",
              "      <th>sex</th>\n",
              "      <th>smoker</th>\n",
              "      <th>day</th>\n",
              "      <th>time</th>\n",
              "      <th>size</th>\n",
              "    </tr>\n",
              "  </thead>\n",
              "  <tbody>\n",
              "    <tr>\n",
              "      <th>0</th>\n",
              "      <td>16.99</td>\n",
              "      <td>1.01</td>\n",
              "      <td>Female</td>\n",
              "      <td>No</td>\n",
              "      <td>Sun</td>\n",
              "      <td>Dinner</td>\n",
              "      <td>2</td>\n",
              "    </tr>\n",
              "    <tr>\n",
              "      <th>1</th>\n",
              "      <td>10.34</td>\n",
              "      <td>1.66</td>\n",
              "      <td>Male</td>\n",
              "      <td>No</td>\n",
              "      <td>Sun</td>\n",
              "      <td>Dinner</td>\n",
              "      <td>3</td>\n",
              "    </tr>\n",
              "    <tr>\n",
              "      <th>2</th>\n",
              "      <td>21.01</td>\n",
              "      <td>3.50</td>\n",
              "      <td>Male</td>\n",
              "      <td>No</td>\n",
              "      <td>Sun</td>\n",
              "      <td>Dinner</td>\n",
              "      <td>3</td>\n",
              "    </tr>\n",
              "    <tr>\n",
              "      <th>3</th>\n",
              "      <td>23.68</td>\n",
              "      <td>3.31</td>\n",
              "      <td>Male</td>\n",
              "      <td>No</td>\n",
              "      <td>Sun</td>\n",
              "      <td>Dinner</td>\n",
              "      <td>2</td>\n",
              "    </tr>\n",
              "    <tr>\n",
              "      <th>4</th>\n",
              "      <td>24.59</td>\n",
              "      <td>3.61</td>\n",
              "      <td>Female</td>\n",
              "      <td>No</td>\n",
              "      <td>Sun</td>\n",
              "      <td>Dinner</td>\n",
              "      <td>4</td>\n",
              "    </tr>\n",
              "  </tbody>\n",
              "</table>\n",
              "</div>\n",
              "    <div class=\"colab-df-buttons\">\n",
              "\n",
              "  <div class=\"colab-df-container\">\n",
              "    <button class=\"colab-df-convert\" onclick=\"convertToInteractive('df-11de1cf3-553a-4be1-b8db-7ec222343efd')\"\n",
              "            title=\"Convert this dataframe to an interactive table.\"\n",
              "            style=\"display:none;\">\n",
              "\n",
              "  <svg xmlns=\"http://www.w3.org/2000/svg\" height=\"24px\" viewBox=\"0 -960 960 960\">\n",
              "    <path d=\"M120-120v-720h720v720H120Zm60-500h600v-160H180v160Zm220 220h160v-160H400v160Zm0 220h160v-160H400v160ZM180-400h160v-160H180v160Zm440 0h160v-160H620v160ZM180-180h160v-160H180v160Zm440 0h160v-160H620v160Z\"/>\n",
              "  </svg>\n",
              "    </button>\n",
              "\n",
              "  <style>\n",
              "    .colab-df-container {\n",
              "      display:flex;\n",
              "      gap: 12px;\n",
              "    }\n",
              "\n",
              "    .colab-df-convert {\n",
              "      background-color: #E8F0FE;\n",
              "      border: none;\n",
              "      border-radius: 50%;\n",
              "      cursor: pointer;\n",
              "      display: none;\n",
              "      fill: #1967D2;\n",
              "      height: 32px;\n",
              "      padding: 0 0 0 0;\n",
              "      width: 32px;\n",
              "    }\n",
              "\n",
              "    .colab-df-convert:hover {\n",
              "      background-color: #E2EBFA;\n",
              "      box-shadow: 0px 1px 2px rgba(60, 64, 67, 0.3), 0px 1px 3px 1px rgba(60, 64, 67, 0.15);\n",
              "      fill: #174EA6;\n",
              "    }\n",
              "\n",
              "    .colab-df-buttons div {\n",
              "      margin-bottom: 4px;\n",
              "    }\n",
              "\n",
              "    [theme=dark] .colab-df-convert {\n",
              "      background-color: #3B4455;\n",
              "      fill: #D2E3FC;\n",
              "    }\n",
              "\n",
              "    [theme=dark] .colab-df-convert:hover {\n",
              "      background-color: #434B5C;\n",
              "      box-shadow: 0px 1px 3px 1px rgba(0, 0, 0, 0.15);\n",
              "      filter: drop-shadow(0px 1px 2px rgba(0, 0, 0, 0.3));\n",
              "      fill: #FFFFFF;\n",
              "    }\n",
              "  </style>\n",
              "\n",
              "    <script>\n",
              "      const buttonEl =\n",
              "        document.querySelector('#df-11de1cf3-553a-4be1-b8db-7ec222343efd button.colab-df-convert');\n",
              "      buttonEl.style.display =\n",
              "        google.colab.kernel.accessAllowed ? 'block' : 'none';\n",
              "\n",
              "      async function convertToInteractive(key) {\n",
              "        const element = document.querySelector('#df-11de1cf3-553a-4be1-b8db-7ec222343efd');\n",
              "        const dataTable =\n",
              "          await google.colab.kernel.invokeFunction('convertToInteractive',\n",
              "                                                    [key], {});\n",
              "        if (!dataTable) return;\n",
              "\n",
              "        const docLinkHtml = 'Like what you see? Visit the ' +\n",
              "          '<a target=\"_blank\" href=https://colab.research.google.com/notebooks/data_table.ipynb>data table notebook</a>'\n",
              "          + ' to learn more about interactive tables.';\n",
              "        element.innerHTML = '';\n",
              "        dataTable['output_type'] = 'display_data';\n",
              "        await google.colab.output.renderOutput(dataTable, element);\n",
              "        const docLink = document.createElement('div');\n",
              "        docLink.innerHTML = docLinkHtml;\n",
              "        element.appendChild(docLink);\n",
              "      }\n",
              "    </script>\n",
              "  </div>\n",
              "\n",
              "\n",
              "    <div id=\"df-7eb72a29-1278-4a9d-a3bb-4ae017d543a5\">\n",
              "      <button class=\"colab-df-quickchart\" onclick=\"quickchart('df-7eb72a29-1278-4a9d-a3bb-4ae017d543a5')\"\n",
              "                title=\"Suggest charts\"\n",
              "                style=\"display:none;\">\n",
              "\n",
              "<svg xmlns=\"http://www.w3.org/2000/svg\" height=\"24px\"viewBox=\"0 0 24 24\"\n",
              "     width=\"24px\">\n",
              "    <g>\n",
              "        <path d=\"M19 3H5c-1.1 0-2 .9-2 2v14c0 1.1.9 2 2 2h14c1.1 0 2-.9 2-2V5c0-1.1-.9-2-2-2zM9 17H7v-7h2v7zm4 0h-2V7h2v10zm4 0h-2v-4h2v4z\"/>\n",
              "    </g>\n",
              "</svg>\n",
              "      </button>\n",
              "\n",
              "<style>\n",
              "  .colab-df-quickchart {\n",
              "      --bg-color: #E8F0FE;\n",
              "      --fill-color: #1967D2;\n",
              "      --hover-bg-color: #E2EBFA;\n",
              "      --hover-fill-color: #174EA6;\n",
              "      --disabled-fill-color: #AAA;\n",
              "      --disabled-bg-color: #DDD;\n",
              "  }\n",
              "\n",
              "  [theme=dark] .colab-df-quickchart {\n",
              "      --bg-color: #3B4455;\n",
              "      --fill-color: #D2E3FC;\n",
              "      --hover-bg-color: #434B5C;\n",
              "      --hover-fill-color: #FFFFFF;\n",
              "      --disabled-bg-color: #3B4455;\n",
              "      --disabled-fill-color: #666;\n",
              "  }\n",
              "\n",
              "  .colab-df-quickchart {\n",
              "    background-color: var(--bg-color);\n",
              "    border: none;\n",
              "    border-radius: 50%;\n",
              "    cursor: pointer;\n",
              "    display: none;\n",
              "    fill: var(--fill-color);\n",
              "    height: 32px;\n",
              "    padding: 0;\n",
              "    width: 32px;\n",
              "  }\n",
              "\n",
              "  .colab-df-quickchart:hover {\n",
              "    background-color: var(--hover-bg-color);\n",
              "    box-shadow: 0 1px 2px rgba(60, 64, 67, 0.3), 0 1px 3px 1px rgba(60, 64, 67, 0.15);\n",
              "    fill: var(--button-hover-fill-color);\n",
              "  }\n",
              "\n",
              "  .colab-df-quickchart-complete:disabled,\n",
              "  .colab-df-quickchart-complete:disabled:hover {\n",
              "    background-color: var(--disabled-bg-color);\n",
              "    fill: var(--disabled-fill-color);\n",
              "    box-shadow: none;\n",
              "  }\n",
              "\n",
              "  .colab-df-spinner {\n",
              "    border: 2px solid var(--fill-color);\n",
              "    border-color: transparent;\n",
              "    border-bottom-color: var(--fill-color);\n",
              "    animation:\n",
              "      spin 1s steps(1) infinite;\n",
              "  }\n",
              "\n",
              "  @keyframes spin {\n",
              "    0% {\n",
              "      border-color: transparent;\n",
              "      border-bottom-color: var(--fill-color);\n",
              "      border-left-color: var(--fill-color);\n",
              "    }\n",
              "    20% {\n",
              "      border-color: transparent;\n",
              "      border-left-color: var(--fill-color);\n",
              "      border-top-color: var(--fill-color);\n",
              "    }\n",
              "    30% {\n",
              "      border-color: transparent;\n",
              "      border-left-color: var(--fill-color);\n",
              "      border-top-color: var(--fill-color);\n",
              "      border-right-color: var(--fill-color);\n",
              "    }\n",
              "    40% {\n",
              "      border-color: transparent;\n",
              "      border-right-color: var(--fill-color);\n",
              "      border-top-color: var(--fill-color);\n",
              "    }\n",
              "    60% {\n",
              "      border-color: transparent;\n",
              "      border-right-color: var(--fill-color);\n",
              "    }\n",
              "    80% {\n",
              "      border-color: transparent;\n",
              "      border-right-color: var(--fill-color);\n",
              "      border-bottom-color: var(--fill-color);\n",
              "    }\n",
              "    90% {\n",
              "      border-color: transparent;\n",
              "      border-bottom-color: var(--fill-color);\n",
              "    }\n",
              "  }\n",
              "</style>\n",
              "\n",
              "      <script>\n",
              "        async function quickchart(key) {\n",
              "          const quickchartButtonEl =\n",
              "            document.querySelector('#' + key + ' button');\n",
              "          quickchartButtonEl.disabled = true;  // To prevent multiple clicks.\n",
              "          quickchartButtonEl.classList.add('colab-df-spinner');\n",
              "          try {\n",
              "            const charts = await google.colab.kernel.invokeFunction(\n",
              "                'suggestCharts', [key], {});\n",
              "          } catch (error) {\n",
              "            console.error('Error during call to suggestCharts:', error);\n",
              "          }\n",
              "          quickchartButtonEl.classList.remove('colab-df-spinner');\n",
              "          quickchartButtonEl.classList.add('colab-df-quickchart-complete');\n",
              "        }\n",
              "        (() => {\n",
              "          let quickchartButtonEl =\n",
              "            document.querySelector('#df-7eb72a29-1278-4a9d-a3bb-4ae017d543a5 button');\n",
              "          quickchartButtonEl.style.display =\n",
              "            google.colab.kernel.accessAllowed ? 'block' : 'none';\n",
              "        })();\n",
              "      </script>\n",
              "    </div>\n",
              "\n",
              "    </div>\n",
              "  </div>\n"
            ],
            "application/vnd.google.colaboratory.intrinsic+json": {
              "type": "dataframe",
              "variable_name": "tips",
              "summary": "{\n  \"name\": \"tips\",\n  \"rows\": 244,\n  \"fields\": [\n    {\n      \"column\": \"total_bill\",\n      \"properties\": {\n        \"dtype\": \"number\",\n        \"std\": 8.902411954856856,\n        \"min\": 3.07,\n        \"max\": 50.81,\n        \"num_unique_values\": 229,\n        \"samples\": [\n          22.12,\n          20.23,\n          14.78\n        ],\n        \"semantic_type\": \"\",\n        \"description\": \"\"\n      }\n    },\n    {\n      \"column\": \"tip\",\n      \"properties\": {\n        \"dtype\": \"number\",\n        \"std\": 1.3836381890011826,\n        \"min\": 1.0,\n        \"max\": 10.0,\n        \"num_unique_values\": 123,\n        \"samples\": [\n          3.35,\n          1.5,\n          6.73\n        ],\n        \"semantic_type\": \"\",\n        \"description\": \"\"\n      }\n    },\n    {\n      \"column\": \"sex\",\n      \"properties\": {\n        \"dtype\": \"category\",\n        \"num_unique_values\": 2,\n        \"samples\": [\n          \"Male\",\n          \"Female\"\n        ],\n        \"semantic_type\": \"\",\n        \"description\": \"\"\n      }\n    },\n    {\n      \"column\": \"smoker\",\n      \"properties\": {\n        \"dtype\": \"category\",\n        \"num_unique_values\": 2,\n        \"samples\": [\n          \"Yes\",\n          \"No\"\n        ],\n        \"semantic_type\": \"\",\n        \"description\": \"\"\n      }\n    },\n    {\n      \"column\": \"day\",\n      \"properties\": {\n        \"dtype\": \"category\",\n        \"num_unique_values\": 4,\n        \"samples\": [\n          \"Sat\",\n          \"Fri\"\n        ],\n        \"semantic_type\": \"\",\n        \"description\": \"\"\n      }\n    },\n    {\n      \"column\": \"time\",\n      \"properties\": {\n        \"dtype\": \"category\",\n        \"num_unique_values\": 2,\n        \"samples\": [\n          \"Lunch\",\n          \"Dinner\"\n        ],\n        \"semantic_type\": \"\",\n        \"description\": \"\"\n      }\n    },\n    {\n      \"column\": \"size\",\n      \"properties\": {\n        \"dtype\": \"number\",\n        \"std\": 0,\n        \"min\": 1,\n        \"max\": 6,\n        \"num_unique_values\": 6,\n        \"samples\": [\n          2,\n          3\n        ],\n        \"semantic_type\": \"\",\n        \"description\": \"\"\n      }\n    }\n  ]\n}"
            }
          },
          "metadata": {},
          "execution_count": 6
        }
      ],
      "source": [
        "# 실습용 'tips' 데이터셋을 불러옵니다.\n",
        "tips = sns.load_dataset('tips')\n",
        "tips.head()"
      ]
    },
    {
      "cell_type": "markdown",
      "metadata": {
        "id": "TMSZg6yNM55A"
      },
      "source": [
        "### 📝 Statsmodels 사용법\n",
        "\n",
        "1.  **데이터 분리 (X, y)**: 분석할 데이터를 **독립변수 `X`**(설명하는 변수들, DataFrame)와 **종속변수 `y`**(알고싶은 결과, Series)로 직접 나눕니다.\n",
        "2.  **데이터 가공**:\n",
        "    - **더미 변수 생성**: `pd.get_dummies()` 함수를 사용해 문자(범주형) 데이터를 0과 1로 이루어진 숫자 데이터로 직접 변환합니다.\n",
        "    - **상수항(Intercept) 추가**: **가장 중요한 단계입니다.** 회귀식의 y절편(`b`ใน `y=ax+b`)을 계산하기 위해 `sm.add_constant(X)`를 사용하여 X 데이터에 상수항 컬럼을 **수동으로 추가**해야 합니다.\n",
        "3.  **모델 학습**: `sm.OLS(y, X)` 또는 `sm.Logit(y, X)` 함수에 준비된 `y`와 `X` 데이터를 전달하여 모델을 학습시킵니다.\n",
        "\n",
        "이제 이 3단계를 따라 모든 문제를 해결해 봅시다.\n"
      ]
    },
    {
      "cell_type": "markdown",
      "metadata": {
        "id": "I6aJ6a1sM55A"
      },
      "source": [
        "---\n"
      ]
    },
    {
      "cell_type": "markdown",
      "metadata": {
        "id": "Y2t-9jAdM55A"
      },
      "source": [
        "## 문제 1 (난이도: 하): 다중회귀분석의 첫걸음\n",
        "\n",
        "> **🎯 목표:** 여러 개의 원인(독립변수)을 동시에 고려하여 결과를 예측하는 **다중회귀분석**을 파이썬 배열 방식으로 구현합니다.\n"
      ]
    },
    {
      "cell_type": "markdown",
      "metadata": {
        "id": "HZZn73nzM55B"
      },
      "source": [
        "### 💡 핵심 개념:\n",
        "\n",
        "단순회귀가 하나의 원인(`X`)으로 결과를 설명했다면, **다중회귀**는 **여러 개의 원인(`X1, X2, ...`)**을 동시에 고려하여 결과를 더 정교하게 설명하는 방법입니다. 이때 각 원인의 영향력(계수)은 **'다른 원인들이 모두 동일하다고 통제했을 때'**의 순수한 영향력을 의미합니다.\n"
      ]
    },
    {
      "cell_type": "markdown",
      "metadata": {
        "id": "czw7cukLM55B"
      },
      "source": [
        "### 📌 수행 과제:\n",
        "\n",
        "1. `tips` 데이터셋에서 `tip`을 종속변수(y)로, `total_bill`과 `size`를 독립변수(X)로 분리하세요.\n",
        "2. 독립변수(X)에 상수항을 추가하세요.\n",
        "3. `sm.OLS`를 사용하여 다중회귀 모델을 학습시키고, `.summary()`로 결과를 확인하세요.\n",
        "4. 결과표를 보고 `total_bill`과 `size`의 계수(coef)가 각각 무엇을 의미하는지 해석해 보세요.\n"
      ]
    },
    {
      "cell_type": "markdown",
      "metadata": {
        "id": "bzFy13eGM55B"
      },
      "source": [
        "### ✍️ 코드 작성:\n"
      ]
    },
    {
      "cell_type": "code",
      "execution_count": 9,
      "metadata": {
        "id": "JVuKb1q5M55B",
        "colab": {
          "base_uri": "https://localhost:8080/"
        },
        "outputId": "8375e686-12a0-42e1-c4cf-c93d67e276b1"
      },
      "outputs": [
        {
          "output_type": "stream",
          "name": "stdout",
          "text": [
            "                            OLS Regression Results                            \n",
            "==============================================================================\n",
            "Dep. Variable:                    tip   R-squared:                       0.468\n",
            "Model:                            OLS   Adj. R-squared:                  0.463\n",
            "Method:                 Least Squares   F-statistic:                     105.9\n",
            "Date:                Thu, 11 Sep 2025   Prob (F-statistic):           9.67e-34\n",
            "Time:                        02:52:06   Log-Likelihood:                -347.99\n",
            "No. Observations:                 244   AIC:                             702.0\n",
            "Df Residuals:                     241   BIC:                             712.5\n",
            "Df Model:                           2                                         \n",
            "Covariance Type:            nonrobust                                         \n",
            "==============================================================================\n",
            "                 coef    std err          t      P>|t|      [0.025      0.975]\n",
            "------------------------------------------------------------------------------\n",
            "const          0.6689      0.194      3.455      0.001       0.288       1.050\n",
            "total_bill     0.0927      0.009     10.172      0.000       0.075       0.111\n",
            "size           0.1926      0.085      2.258      0.025       0.025       0.361\n",
            "==============================================================================\n",
            "Omnibus:                       24.753   Durbin-Watson:                   2.100\n",
            "Prob(Omnibus):                  0.000   Jarque-Bera (JB):               46.169\n",
            "Skew:                           0.545   Prob(JB):                     9.43e-11\n",
            "Kurtosis:                       4.831   Cond. No.                         67.6\n",
            "==============================================================================\n",
            "\n",
            "Notes:\n",
            "[1] Standard Errors assume that the covariance matrix of the errors is correctly specified.\n"
          ]
        }
      ],
      "source": [
        "# 1. 여기에 데이터를 y와 X로 분리하는 코드를 작성하세요.\n",
        "# 종속변수 y에 'tip' 컬럼을 할당하세요.\n",
        "import seaborn as sns\n",
        "import statsmodels.api as sm\n",
        "from statsmodels.api import add_constant\n",
        "y = tips['tip']\n",
        "\n",
        "# 독립변수 X에 'total_bill'과 'size' 컬럼을 리스트로 묶어 할당하세요.\n",
        "tips = sns.load_dataset('tips')\n",
        "X = tips[['total_bill', 'size']]\n",
        "\n",
        "# 2. 여기에 상수항을 추가하는 코드를 작성하세요.\n",
        "# statsmodels.api 모듈에서 add_constant 함수를 임포트하여 사용합니다.\n",
        "from statsmodels.api import add_constant\n",
        "X_const = add_constant(X)\n",
        "\n",
        "# 3. 여기에 모델을 학습하고 결과를 출력하는 코드를 작성하세요.\n",
        "# sm.OLS() 함수에 y와 X_const를 순서대로 넣어 모델을 만들고 학습시킵니다.\n",
        "model_1 = sm.OLS(y, X_const).fit()\n",
        "print(model_1.summary())\n",
        "\n",
        "# 4. 결과 해석 (아래 주석에 직접 작성해 보세요)\n",
        "# total_bill 계수의 의미: total_bill이 1단위 증가할 때, size가 동일하다면 tip은 해당 계수만큼 증가/감소합니다.\n",
        "# size 계수의 의미: size가 1단위 증가할 때, total_bill이 동일하다면 tip은 해당 계수만큼 증가/감소합니다."
      ]
    },
    {
      "cell_type": "markdown",
      "metadata": {
        "id": "e086afbe"
      },
      "source": [
        "**결과 해석**\n",
        "\n",
        "*   **total_bill 계수의 의미**: total_bill이 1단위 증가할 때, size가 동일하다면 tip은 해당 계수(0.0927)만큼 증가합니다.\n",
        "*   **size 계수의 의미**: size가 1단위 증가할 때, total_bill이 동일하다면 tip은 해당 계수(0.1926)만큼 증가합니다.\n",
        "\n",
        "두 변수 모두 p-value가 0.05보다 작으므로 통계적으로 유의미하게 팁에 영향을 미친다고 해석할 수 있습니다."
      ]
    },
    {
      "cell_type": "markdown",
      "source": [],
      "metadata": {
        "id": "Dl3Vqn3xsMBO"
      }
    },
    {
      "cell_type": "markdown",
      "metadata": {
        "id": "vWkO-kK3M55B"
      },
      "source": [
        "### 🤔 생각해 볼 문제:\n",
        "\n",
        "`X_const.head()`를 출력해서 `sm.add_constant()`가 실제로 X 데이터에 어떤 변화를 주었는지 직접 눈으로 확인해보세요.\n"
      ]
    },
    {
      "cell_type": "code",
      "source": [
        "display(X_const.head())"
      ],
      "metadata": {
        "colab": {
          "base_uri": "https://localhost:8080/",
          "height": 206
        },
        "id": "L37E26HDqJQM",
        "outputId": "33c2ad04-92f8-4fa8-a104-ef02260279ff"
      },
      "execution_count": 10,
      "outputs": [
        {
          "output_type": "display_data",
          "data": {
            "text/plain": [
              "   const  total_bill  size\n",
              "0    1.0       16.99     2\n",
              "1    1.0       10.34     3\n",
              "2    1.0       21.01     3\n",
              "3    1.0       23.68     2\n",
              "4    1.0       24.59     4"
            ],
            "text/html": [
              "\n",
              "  <div id=\"df-1d7e339e-5491-4555-b6d2-a04dd66a9fb8\" class=\"colab-df-container\">\n",
              "    <div>\n",
              "<style scoped>\n",
              "    .dataframe tbody tr th:only-of-type {\n",
              "        vertical-align: middle;\n",
              "    }\n",
              "\n",
              "    .dataframe tbody tr th {\n",
              "        vertical-align: top;\n",
              "    }\n",
              "\n",
              "    .dataframe thead th {\n",
              "        text-align: right;\n",
              "    }\n",
              "</style>\n",
              "<table border=\"1\" class=\"dataframe\">\n",
              "  <thead>\n",
              "    <tr style=\"text-align: right;\">\n",
              "      <th></th>\n",
              "      <th>const</th>\n",
              "      <th>total_bill</th>\n",
              "      <th>size</th>\n",
              "    </tr>\n",
              "  </thead>\n",
              "  <tbody>\n",
              "    <tr>\n",
              "      <th>0</th>\n",
              "      <td>1.0</td>\n",
              "      <td>16.99</td>\n",
              "      <td>2</td>\n",
              "    </tr>\n",
              "    <tr>\n",
              "      <th>1</th>\n",
              "      <td>1.0</td>\n",
              "      <td>10.34</td>\n",
              "      <td>3</td>\n",
              "    </tr>\n",
              "    <tr>\n",
              "      <th>2</th>\n",
              "      <td>1.0</td>\n",
              "      <td>21.01</td>\n",
              "      <td>3</td>\n",
              "    </tr>\n",
              "    <tr>\n",
              "      <th>3</th>\n",
              "      <td>1.0</td>\n",
              "      <td>23.68</td>\n",
              "      <td>2</td>\n",
              "    </tr>\n",
              "    <tr>\n",
              "      <th>4</th>\n",
              "      <td>1.0</td>\n",
              "      <td>24.59</td>\n",
              "      <td>4</td>\n",
              "    </tr>\n",
              "  </tbody>\n",
              "</table>\n",
              "</div>\n",
              "    <div class=\"colab-df-buttons\">\n",
              "\n",
              "  <div class=\"colab-df-container\">\n",
              "    <button class=\"colab-df-convert\" onclick=\"convertToInteractive('df-1d7e339e-5491-4555-b6d2-a04dd66a9fb8')\"\n",
              "            title=\"Convert this dataframe to an interactive table.\"\n",
              "            style=\"display:none;\">\n",
              "\n",
              "  <svg xmlns=\"http://www.w3.org/2000/svg\" height=\"24px\" viewBox=\"0 -960 960 960\">\n",
              "    <path d=\"M120-120v-720h720v720H120Zm60-500h600v-160H180v160Zm220 220h160v-160H400v160Zm0 220h160v-160H400v160ZM180-400h160v-160H180v160Zm440 0h160v-160H620v160ZM180-180h160v-160H180v160Zm440 0h160v-160H620v160Z\"/>\n",
              "  </svg>\n",
              "    </button>\n",
              "\n",
              "  <style>\n",
              "    .colab-df-container {\n",
              "      display:flex;\n",
              "      gap: 12px;\n",
              "    }\n",
              "\n",
              "    .colab-df-convert {\n",
              "      background-color: #E8F0FE;\n",
              "      border: none;\n",
              "      border-radius: 50%;\n",
              "      cursor: pointer;\n",
              "      display: none;\n",
              "      fill: #1967D2;\n",
              "      height: 32px;\n",
              "      padding: 0 0 0 0;\n",
              "      width: 32px;\n",
              "    }\n",
              "\n",
              "    .colab-df-convert:hover {\n",
              "      background-color: #E2EBFA;\n",
              "      box-shadow: 0px 1px 2px rgba(60, 64, 67, 0.3), 0px 1px 3px 1px rgba(60, 64, 67, 0.15);\n",
              "      fill: #174EA6;\n",
              "    }\n",
              "\n",
              "    .colab-df-buttons div {\n",
              "      margin-bottom: 4px;\n",
              "    }\n",
              "\n",
              "    [theme=dark] .colab-df-convert {\n",
              "      background-color: #3B4455;\n",
              "      fill: #D2E3FC;\n",
              "    }\n",
              "\n",
              "    [theme=dark] .colab-df-convert:hover {\n",
              "      background-color: #434B5C;\n",
              "      box-shadow: 0px 1px 3px 1px rgba(0, 0, 0, 0.15);\n",
              "      filter: drop-shadow(0px 1px 2px rgba(0, 0, 0, 0.3));\n",
              "      fill: #FFFFFF;\n",
              "    }\n",
              "  </style>\n",
              "\n",
              "    <script>\n",
              "      const buttonEl =\n",
              "        document.querySelector('#df-1d7e339e-5491-4555-b6d2-a04dd66a9fb8 button.colab-df-convert');\n",
              "      buttonEl.style.display =\n",
              "        google.colab.kernel.accessAllowed ? 'block' : 'none';\n",
              "\n",
              "      async function convertToInteractive(key) {\n",
              "        const element = document.querySelector('#df-1d7e339e-5491-4555-b6d2-a04dd66a9fb8');\n",
              "        const dataTable =\n",
              "          await google.colab.kernel.invokeFunction('convertToInteractive',\n",
              "                                                    [key], {});\n",
              "        if (!dataTable) return;\n",
              "\n",
              "        const docLinkHtml = 'Like what you see? Visit the ' +\n",
              "          '<a target=\"_blank\" href=https://colab.research.google.com/notebooks/data_table.ipynb>data table notebook</a>'\n",
              "          + ' to learn more about interactive tables.';\n",
              "        element.innerHTML = '';\n",
              "        dataTable['output_type'] = 'display_data';\n",
              "        await google.colab.output.renderOutput(dataTable, element);\n",
              "        const docLink = document.createElement('div');\n",
              "        docLink.innerHTML = docLinkHtml;\n",
              "        element.appendChild(docLink);\n",
              "      }\n",
              "    </script>\n",
              "  </div>\n",
              "\n",
              "\n",
              "    <div id=\"df-8d07f763-328b-409d-8514-925fb99dbaa5\">\n",
              "      <button class=\"colab-df-quickchart\" onclick=\"quickchart('df-8d07f763-328b-409d-8514-925fb99dbaa5')\"\n",
              "                title=\"Suggest charts\"\n",
              "                style=\"display:none;\">\n",
              "\n",
              "<svg xmlns=\"http://www.w3.org/2000/svg\" height=\"24px\"viewBox=\"0 0 24 24\"\n",
              "     width=\"24px\">\n",
              "    <g>\n",
              "        <path d=\"M19 3H5c-1.1 0-2 .9-2 2v14c0 1.1.9 2 2 2h14c1.1 0 2-.9 2-2V5c0-1.1-.9-2-2-2zM9 17H7v-7h2v7zm4 0h-2V7h2v10zm4 0h-2v-4h2v4z\"/>\n",
              "    </g>\n",
              "</svg>\n",
              "      </button>\n",
              "\n",
              "<style>\n",
              "  .colab-df-quickchart {\n",
              "      --bg-color: #E8F0FE;\n",
              "      --fill-color: #1967D2;\n",
              "      --hover-bg-color: #E2EBFA;\n",
              "      --hover-fill-color: #174EA6;\n",
              "      --disabled-fill-color: #AAA;\n",
              "      --disabled-bg-color: #DDD;\n",
              "  }\n",
              "\n",
              "  [theme=dark] .colab-df-quickchart {\n",
              "      --bg-color: #3B4455;\n",
              "      --fill-color: #D2E3FC;\n",
              "      --hover-bg-color: #434B5C;\n",
              "      --hover-fill-color: #FFFFFF;\n",
              "      --disabled-bg-color: #3B4455;\n",
              "      --disabled-fill-color: #666;\n",
              "  }\n",
              "\n",
              "  .colab-df-quickchart {\n",
              "    background-color: var(--bg-color);\n",
              "    border: none;\n",
              "    border-radius: 50%;\n",
              "    cursor: pointer;\n",
              "    display: none;\n",
              "    fill: var(--fill-color);\n",
              "    height: 32px;\n",
              "    padding: 0;\n",
              "    width: 32px;\n",
              "  }\n",
              "\n",
              "  .colab-df-quickchart:hover {\n",
              "    background-color: var(--hover-bg-color);\n",
              "    box-shadow: 0 1px 2px rgba(60, 64, 67, 0.3), 0 1px 3px 1px rgba(60, 64, 67, 0.15);\n",
              "    fill: var(--button-hover-fill-color);\n",
              "  }\n",
              "\n",
              "  .colab-df-quickchart-complete:disabled,\n",
              "  .colab-df-quickchart-complete:disabled:hover {\n",
              "    background-color: var(--disabled-bg-color);\n",
              "    fill: var(--disabled-fill-color);\n",
              "    box-shadow: none;\n",
              "  }\n",
              "\n",
              "  .colab-df-spinner {\n",
              "    border: 2px solid var(--fill-color);\n",
              "    border-color: transparent;\n",
              "    border-bottom-color: var(--fill-color);\n",
              "    animation:\n",
              "      spin 1s steps(1) infinite;\n",
              "  }\n",
              "\n",
              "  @keyframes spin {\n",
              "    0% {\n",
              "      border-color: transparent;\n",
              "      border-bottom-color: var(--fill-color);\n",
              "      border-left-color: var(--fill-color);\n",
              "    }\n",
              "    20% {\n",
              "      border-color: transparent;\n",
              "      border-left-color: var(--fill-color);\n",
              "      border-top-color: var(--fill-color);\n",
              "    }\n",
              "    30% {\n",
              "      border-color: transparent;\n",
              "      border-left-color: var(--fill-color);\n",
              "      border-top-color: var(--fill-color);\n",
              "      border-right-color: var(--fill-color);\n",
              "    }\n",
              "    40% {\n",
              "      border-color: transparent;\n",
              "      border-right-color: var(--fill-color);\n",
              "      border-top-color: var(--fill-color);\n",
              "    }\n",
              "    60% {\n",
              "      border-color: transparent;\n",
              "      border-right-color: var(--fill-color);\n",
              "    }\n",
              "    80% {\n",
              "      border-color: transparent;\n",
              "      border-right-color: var(--fill-color);\n",
              "      border-bottom-color: var(--fill-color);\n",
              "    }\n",
              "    90% {\n",
              "      border-color: transparent;\n",
              "      border-bottom-color: var(--fill-color);\n",
              "    }\n",
              "  }\n",
              "</style>\n",
              "\n",
              "      <script>\n",
              "        async function quickchart(key) {\n",
              "          const quickchartButtonEl =\n",
              "            document.querySelector('#' + key + ' button');\n",
              "          quickchartButtonEl.disabled = true;  // To prevent multiple clicks.\n",
              "          quickchartButtonEl.classList.add('colab-df-spinner');\n",
              "          try {\n",
              "            const charts = await google.colab.kernel.invokeFunction(\n",
              "                'suggestCharts', [key], {});\n",
              "          } catch (error) {\n",
              "            console.error('Error during call to suggestCharts:', error);\n",
              "          }\n",
              "          quickchartButtonEl.classList.remove('colab-df-spinner');\n",
              "          quickchartButtonEl.classList.add('colab-df-quickchart-complete');\n",
              "        }\n",
              "        (() => {\n",
              "          let quickchartButtonEl =\n",
              "            document.querySelector('#df-8d07f763-328b-409d-8514-925fb99dbaa5 button');\n",
              "          quickchartButtonEl.style.display =\n",
              "            google.colab.kernel.accessAllowed ? 'block' : 'none';\n",
              "        })();\n",
              "      </script>\n",
              "    </div>\n",
              "\n",
              "    </div>\n",
              "  </div>\n"
            ],
            "application/vnd.google.colaboratory.intrinsic+json": {
              "type": "dataframe",
              "summary": "{\n  \"name\": \"display(X_const\",\n  \"rows\": 5,\n  \"fields\": [\n    {\n      \"column\": \"const\",\n      \"properties\": {\n        \"dtype\": \"number\",\n        \"std\": 0.0,\n        \"min\": 1.0,\n        \"max\": 1.0,\n        \"num_unique_values\": 1,\n        \"samples\": [\n          1.0\n        ],\n        \"semantic_type\": \"\",\n        \"description\": \"\"\n      }\n    },\n    {\n      \"column\": \"total_bill\",\n      \"properties\": {\n        \"dtype\": \"number\",\n        \"std\": 5.824686257645128,\n        \"min\": 10.34,\n        \"max\": 24.59,\n        \"num_unique_values\": 5,\n        \"samples\": [\n          10.34\n        ],\n        \"semantic_type\": \"\",\n        \"description\": \"\"\n      }\n    },\n    {\n      \"column\": \"size\",\n      \"properties\": {\n        \"dtype\": \"number\",\n        \"std\": 0,\n        \"min\": 2,\n        \"max\": 4,\n        \"num_unique_values\": 3,\n        \"samples\": [\n          2\n        ],\n        \"semantic_type\": \"\",\n        \"description\": \"\"\n      }\n    }\n  ]\n}"
            }
          },
          "metadata": {}
        }
      ]
    },
    {
      "cell_type": "markdown",
      "source": [],
      "metadata": {
        "id": "cVsGECB5s0HX"
      }
    },
    {
      "cell_type": "markdown",
      "source": [
        "절편을 계산하면 어떤 결과가 나오나요?\n",
        "회귀 모델에서 계산된 절편(intercept)은 model_1.summary() 결과표의 'const' 행에 있는 'coef' 값을 보면 알 수 있습니다. 문제 1의 결과표에서는 절편 값이 0.6689로 나타났습니다.\n",
        "\n",
        "이 절편은 다른 모든 독립변수(total_bill, size)가 0일 때 종속변수(tip)의 평균적인 예상 값입니다. 하지만 이 데이터셋의 특성상 total_bill이나 size가 0인 경우는 현실적으로 없으므로, 이 절편 값 자체를 직접적으로 해석하는 것은 큰 의미가 없을 수 있습니다. 통계적으로는 다른 변수들의 영향력을 통제한 기준점 역할을 한다고 이해하시면 됩니다.\n",
        "\n"
      ],
      "metadata": {
        "id": "py76g4sRqJeI"
      }
    },
    {
      "cell_type": "markdown",
      "metadata": {
        "id": "cN8BRLUAM55B"
      },
      "source": [
        "---\n"
      ]
    },
    {
      "cell_type": "markdown",
      "metadata": {
        "id": "IZwIFFh2M55B"
      },
      "source": [
        "## 문제 2 (난이도: 하): 더미 변수 활용하기\n",
        "\n",
        "> **🎯 목표:** '요일'과 같은 문자(범주형) 데이터를 분석에 활용하기 위해 **더미 변수**로 변환하는 방법을 배우고, 회귀분석에 적용합니다.\n"
      ]
    },
    {
      "cell_type": "markdown",
      "metadata": {
        "id": "Of89W-n8M55B"
      },
      "source": [
        "### 💡 핵심 개념:\n",
        "\n",
        "**더미 변수**는 '성별', '요일'과 같은 문자(범주형) 데이터를 통계 모델에 사용하기 위해 **0과 1로 이루어진 숫자 변수**로 변환하는 기법입니다. Pandas의 `pd.get_dummies()` 함수를 사용하면 이 과정을 쉽게 처리할 수 있습니다. 이때, 여러 범주 중 하나는 **기준(reference)**이 되어 분석 오류를 막고 해석의 기준점 역할을 합니다.\n"
      ]
    },
    {
      "cell_type": "markdown",
      "metadata": {
        "id": "oMlsa1NKM55C"
      },
      "source": [
        "### 📌 수행 과제:\n",
        "\n",
        "1. `total_bill`과 '요일(`day`)'이 팁(`tip`)에 미치는 영향을 분석해봅시다.\n",
        "2. `pd.get_dummies()`를 사용하여 'day' 컬럼을 더미 변수로 변환하세요. (단, `drop_first=True` 옵션 사용)\n",
        "3. 기존 독립변수(`total_bill`)와 생성된 더미 변수를 합쳐 최종 X 데이터를 만드세요.\n",
        "4. 상수항을 추가하고 회귀 모델을 학습시킨 후, 결과를 해석하세요.\n"
      ]
    },
    {
      "cell_type": "markdown",
      "metadata": {
        "id": "zMk7TTQnM55C"
      },
      "source": [
        "### ✍️ 코드 작성:\n"
      ]
    },
    {
      "cell_type": "code",
      "execution_count": 13,
      "metadata": {
        "id": "ZOOem53wM55C",
        "colab": {
          "base_uri": "https://localhost:8080/"
        },
        "outputId": "ed78ff81-307d-42ad-d5c1-81f945b17482"
      },
      "outputs": [
        {
          "output_type": "stream",
          "name": "stdout",
          "text": [
            "                            OLS Regression Results                            \n",
            "==============================================================================\n",
            "Dep. Variable:                    tip   R-squared:                       0.459\n",
            "Model:                            OLS   Adj. R-squared:                  0.450\n",
            "Method:                 Least Squares   F-statistic:                     50.67\n",
            "Date:                Thu, 11 Sep 2025   Prob (F-statistic):           7.52e-31\n",
            "Time:                        03:08:19   Log-Likelihood:                -350.03\n",
            "No. Observations:                 244   AIC:                             710.1\n",
            "Df Residuals:                     239   BIC:                             727.5\n",
            "Df Model:                           4                                         \n",
            "Covariance Type:            nonrobust                                         \n",
            "==============================================================================\n",
            "                 coef    std err          t      P>|t|      [0.025      0.975]\n",
            "------------------------------------------------------------------------------\n",
            "const          0.9205      0.186      4.943      0.000       0.554       1.287\n",
            "total_bill     0.1047      0.008     13.915      0.000       0.090       0.119\n",
            "day_Fri        0.0189      0.269      0.070      0.944      -0.511       0.549\n",
            "day_Sat       -0.0671      0.172     -0.391      0.697      -0.406       0.271\n",
            "day_Sun        0.0935      0.178      0.526      0.599      -0.257       0.444\n",
            "==============================================================================\n",
            "Omnibus:                       20.916   Durbin-Watson:                   2.149\n",
            "Prob(Omnibus):                  0.000   Jarque-Bera (JB):               38.821\n",
            "Skew:                           0.463   Prob(JB):                     3.72e-09\n",
            "Kurtosis:                       4.721   Cond. No.                         103.\n",
            "==============================================================================\n",
            "\n",
            "Notes:\n",
            "[1] Standard Errors assume that the covariance matrix of the errors is correctly specified.\n"
          ]
        }
      ],
      "source": [
        "# 1. 기본 데이터를 분리합니다.\n",
        "import pandas as pd\n",
        "import seaborn as sns\n",
        "import statsmodels.api as sm\n",
        "\n",
        "tips = sns.load_dataset('tips')\n",
        "y = tips['tip']\n",
        "X_base = tips[['total_bill']]\n",
        "\n",
        "# 2. 여기에 'day' 컬럼으로 더미 변수를 생성하는 코드를 작성하세요.\n",
        "# pd.get_dummies()를 사용하고, drop_first=True 옵션을 잊지 마세요.\n",
        "day_dummies = pd.get_dummies(tips['day'], prefix='day', drop_first=True, dtype=int)\n",
        "\n",
        "# 3. 여기에 기본 X 데이터와 더미 변수를 합치는 코드를 작성하세요.\n",
        "# pd.concat을 사용하고, axis=1 옵션으로 옆으로 붙입니다.\n",
        "X = pd.concat([X_base, day_dummies], axis=1)\n",
        "\n",
        "# 4. 상수항을 추가하고 모델을 학습시킨 후 결과를 출력하세요.\n",
        "X_const = sm.add_constant(X)\n",
        "model_2 = sm.OLS(y, X_const).fit()\n",
        "print(model_2.summary())\n",
        "\n",
        "# 5. 결과 해석\n",
        "# 기준이 된 요일은 무엇인가?:\n",
        "# 'day_Sat' 계수의 의미:\n",
        "#"
      ]
    },
    {
      "cell_type": "markdown",
      "metadata": {
        "id": "281d8f61"
      },
      "source": [
        "**결과 해석**\n",
        "\n",
        "*   **기준이 된 요일은 무엇인가?**: `drop_first=True` 옵션으로 인해 알파벳 순서로 가장 먼저 오는 요일인 'Thur'가 기준이 됩니다. (주석에 'Fri'로 잘못 기재되어 있었습니다.)\n",
        "*   **'day_Fri' 계수의 의미**: `total_bill`이 동일할 때, 금요일(Fri)은 목요일(Thur) 대비 팁이 계수(0.0189)만큼 더 발생한다는 의미입니다. p-value(0.944)가 0.05보다 크므로 통계적으로 유의미하지 않습니다.\n",
        "*   **'day_Sat' 계수의 의미**: `total_bill`이 동일할 때, 토요일(Sat)은 목요일(Thur) 대비 팁이 계수(-0.0671)만큼 덜 발생한다는 의미입니다. p-value(0.697)가 0.05보다 크므로 통계적으로 유의미하지 않습니다.\n",
        "*   **'day_Sun' 계수의 의미**: `total_bill`이 동일할 때, 일요일(Sun)은 목요일(Thur) 대비 팁이 계수(0.0935)만큼 더 발생한다는 의미입니다. p-value(0.599)가 0.05보다 크므로 통계적으로 유의미하지 않습니다.\n",
        "\n",
        "**참고**: 더미 변수의 p-value가 모두 유의미하지 않다는 것은 `total_bill`이 동일하다면 요일 자체는 팁 금액에 통계적으로 유의미한 영향을 미치지 않는다고 해석할 수 있습니다."
      ]
    },
    {
      "cell_type": "markdown",
      "metadata": {
        "id": "lytbfsXjM55C"
      },
      "source": [
        "### 🤔 생각해 볼 문제:\n",
        "\n",
        "`drop_first=True` 옵션을 빼고 `False`로 설정한 뒤 모델을 다시 학습시켜보세요. 결과가 어떻게 달라지나요? (힌트: `statsmodels`가 다중공선성에 대한 경고 메시지를 보여줄 수 있습니다.)\n"
      ]
    },
    {
      "cell_type": "code",
      "source": [
        "# drop_first=False로 설정하여 더미 변수 생성\n",
        "# 문제 2의 코드를 기반으로 drop_first=True만 제거합니다.\n",
        "import pandas as pd\n",
        "import seaborn as sns\n",
        "import statsmodels.api as sm\n",
        "\n",
        "tips = sns.load_dataset('tips')\n",
        "y = tips['tip']\n",
        "X_base = tips[['total_bill']]\n",
        "\n",
        "# day 컬럼으로 더미 변수 생성 (drop_first=False)\n",
        "day_dummies_full = pd.get_dummies(tips['day'], prefix='day', dtype=int)\n",
        "\n",
        "# 기본 X 데이터와 더미 변수 합치기\n",
        "X_full = pd.concat([X_base, day_dummies_full], axis=1)\n",
        "\n",
        "# 상수항 추가\n",
        "X_full_const = sm.add_constant(X_full)\n",
        "\n",
        "# 모델 학습 및 결과 출력\n",
        "model_2_full = sm.OLS(y, X_full_const).fit()\n",
        "print(model_2_full.summary())"
      ],
      "metadata": {
        "colab": {
          "base_uri": "https://localhost:8080/"
        },
        "id": "o22qN7IAwX5D",
        "outputId": "4f6f957b-46bd-4b61-a9be-bbfdf26116f0"
      },
      "execution_count": 14,
      "outputs": [
        {
          "output_type": "stream",
          "name": "stdout",
          "text": [
            "                            OLS Regression Results                            \n",
            "==============================================================================\n",
            "Dep. Variable:                    tip   R-squared:                       0.459\n",
            "Model:                            OLS   Adj. R-squared:                  0.450\n",
            "Method:                 Least Squares   F-statistic:                     50.67\n",
            "Date:                Thu, 11 Sep 2025   Prob (F-statistic):           7.52e-31\n",
            "Time:                        03:11:38   Log-Likelihood:                -350.03\n",
            "No. Observations:                 244   AIC:                             710.1\n",
            "Df Residuals:                     239   BIC:                             727.5\n",
            "Df Model:                           4                                         \n",
            "Covariance Type:            nonrobust                                         \n",
            "==============================================================================\n",
            "                 coef    std err          t      P>|t|      [0.025      0.975]\n",
            "------------------------------------------------------------------------------\n",
            "const          0.7455      0.131      5.677      0.000       0.487       1.004\n",
            "total_bill     0.1047      0.008     13.915      0.000       0.090       0.119\n",
            "day_Thur       0.1750      0.120      1.457      0.147      -0.062       0.412\n",
            "day_Fri        0.1939      0.193      1.003      0.317      -0.187       0.575\n",
            "day_Sat        0.1079      0.113      0.959      0.339      -0.114       0.330\n",
            "day_Sun        0.2686      0.120      2.243      0.026       0.033       0.504\n",
            "==============================================================================\n",
            "Omnibus:                       20.916   Durbin-Watson:                   2.149\n",
            "Prob(Omnibus):                  0.000   Jarque-Bera (JB):               38.821\n",
            "Skew:                           0.463   Prob(JB):                     3.72e-09\n",
            "Kurtosis:                       4.721   Cond. No.                     2.21e+17\n",
            "==============================================================================\n",
            "\n",
            "Notes:\n",
            "[1] Standard Errors assume that the covariance matrix of the errors is correctly specified.\n",
            "[2] The smallest eigenvalue is 2.35e-30. This might indicate that there are\n",
            "strong multicollinearity problems or that the design matrix is singular.\n"
          ]
        }
      ]
    },
    {
      "cell_type": "markdown",
      "source": [
        "요일 더미가 4개 모두 들어가 있어서(Thu, Fri, Sat, Sun) 아래 경고처럼 **더미 변수 함정(dummy variable trap)**이 발생했습니다.\n",
        "\n",
        "“the design matrix is singular… strong multicollinearity”\n",
        "→ 상수항 + 모든 요일 더미를 동시에 넣어서 완전 다중공선성이 생김\n",
        "\n",
        "\n",
        "다중공선성이 있어 계수의 정확한 해석이 왜곡될 수 있음을 전제로 간단히 읽으면:\n",
        "\n",
        "total_bill: 0.1047 (p<0.001)\n",
        "청구금액이 $1 증가할 때(요일 동일), 팁은 약 $0.105 증가하는 경향이 통계적으로 유의합니다.\n",
        "\n",
        "요일 더미\n",
        "더미 함정 때문에 기준이 명확하지 않지만, 수치 자체로 보면\n",
        "\n",
        "day_Sun: 0.2686 (p=0.026) → 일요일은 기준 대비 팁이 약 $0.27 더 높다는 효과가 유의하게 보입니다.\n",
        "\n",
        "day_Sat, day_Thur, day_Fri는 p값이 크므로 유의하지 않음(기준 대비 차이가 뚜렷하다고 보기 어려움).\n",
        "\n",
        "설명력: R² = 0.459 (중간 정도).\n",
        "청구금액과 요일만으로 팁 변동의 약 46%를 설명.\n",
        "\n",
        "요약\n",
        "\n",
        "현재 모델은 더미 변수 함정으로 경고가 발생했습니다.\n",
        "\n",
        "drop_first=True(또는 한 요일 더미를 수동으로 제거)로 다시 적합하세요. 기준은 보통 Fri가 됩니다.\n",
        "\n",
        "그 상태에서 해석하면, 청구금액 효과는 강하고 유의, **일요일 프리미엄(≈$0.27)**만 유의하게 보이는 패턴이 확인될 가능성이 큽니다."
      ],
      "metadata": {
        "id": "-fKzhxVSwyv0"
      }
    },
    {
      "cell_type": "code",
      "source": [
        "#기준 요일 1개 제거\n",
        "import pandas as pd\n",
        "import seaborn as sns\n",
        "import statsmodels.api as sm\n",
        "\n",
        "tips = sns.load_dataset('tips')\n",
        "y = tips['tip']\n",
        "X_base = tips[['total_bill']]\n",
        "\n",
        "# 요일 더미: 기준 1개 제거(drop_first=True) → 기준은 사전순 첫 범주(Fri)\n",
        "day_dummies = pd.get_dummies(tips['day'], prefix='day', drop_first=True, dtype=int)  # day_Sat, day_Sun, day_Thur\n",
        "\n",
        "X = pd.concat([X_base, day_dummies], axis=1)\n",
        "X_const = sm.add_constant(X)\n",
        "model_2 = sm.OLS(y, X_const).fit()\n",
        "print(model_2.summary())"
      ],
      "metadata": {
        "colab": {
          "base_uri": "https://localhost:8080/"
        },
        "id": "zOXJyTDQwfhw",
        "outputId": "6147231c-2231-4425-f2fc-e44c0c37a311"
      },
      "execution_count": 16,
      "outputs": [
        {
          "output_type": "stream",
          "name": "stdout",
          "text": [
            "                            OLS Regression Results                            \n",
            "==============================================================================\n",
            "Dep. Variable:                    tip   R-squared:                       0.459\n",
            "Model:                            OLS   Adj. R-squared:                  0.450\n",
            "Method:                 Least Squares   F-statistic:                     50.67\n",
            "Date:                Thu, 11 Sep 2025   Prob (F-statistic):           7.52e-31\n",
            "Time:                        03:14:21   Log-Likelihood:                -350.03\n",
            "No. Observations:                 244   AIC:                             710.1\n",
            "Df Residuals:                     239   BIC:                             727.5\n",
            "Df Model:                           4                                         \n",
            "Covariance Type:            nonrobust                                         \n",
            "==============================================================================\n",
            "                 coef    std err          t      P>|t|      [0.025      0.975]\n",
            "------------------------------------------------------------------------------\n",
            "const          0.9205      0.186      4.943      0.000       0.554       1.287\n",
            "total_bill     0.1047      0.008     13.915      0.000       0.090       0.119\n",
            "day_Fri        0.0189      0.269      0.070      0.944      -0.511       0.549\n",
            "day_Sat       -0.0671      0.172     -0.391      0.697      -0.406       0.271\n",
            "day_Sun        0.0935      0.178      0.526      0.599      -0.257       0.444\n",
            "==============================================================================\n",
            "Omnibus:                       20.916   Durbin-Watson:                   2.149\n",
            "Prob(Omnibus):                  0.000   Jarque-Bera (JB):               38.821\n",
            "Skew:                           0.463   Prob(JB):                     3.72e-09\n",
            "Kurtosis:                       4.721   Cond. No.                         103.\n",
            "==============================================================================\n",
            "\n",
            "Notes:\n",
            "[1] Standard Errors assume that the covariance matrix of the errors is correctly specified.\n"
          ]
        }
      ]
    },
    {
      "cell_type": "markdown",
      "source": [
        "더미함정 없이 잘 적합\n",
        "\n",
        "기준(Reference) 요일\n",
        "\n",
        "day_Fri, day_Sat, day_Sun만 있고 day_Thur가 없으므로 기준은 ‘Thur(목)’ 입니다.\n",
        "\n",
        "계수 해석\n",
        "\n",
        "total_bill = 0.1047 (p < 0.001)\n",
        "다른 조건 동일할 때, 청구금액이 $1 증가하면 팁은 평균 $0.105 증가하는 경향이 유의합니다.\n",
        "\n",
        "day_Fri = 0.0189 (p = 0.944)\n",
        "금요일은 목요일 대비 팁이 $0.019 높게 나타나지만, 유의하지 않음.\n",
        "\n",
        "day_Sat = -0.0671 (p = 0.697)\n",
        "토요일은 목요일 대비 팁이 $0.067 낮게 나타나지만, 유의하지 않음.\n",
        "→ 즉, **“total_bill이 같다면 토요일 효과는 목요일 대비 유의한 차이가 없다”**는 의미입니다.\n",
        "\n",
        "day_Sun = 0.0935 (p = 0.599)\n",
        "일요일은 목요일 대비 팁이 $0.094 높게 보이나, 유의하지 않음.\n",
        "\n",
        "Intercept = 0.9205\n",
        "(이론상) 목요일에 total_bill=0일 때의 팁. 현실적 의미는 제한적입니다.\n",
        "\n",
        "한 줄 요약\n",
        "\n",
        "팁은 청구금액(total_bill)의 증가에 강하게 비례하고, 요일 효과는(목 대비 금/토/일) 통계적으로 유의하지 않다고 볼 수 있습니다.\n",
        "\n"
      ],
      "metadata": {
        "id": "1L_O6GlCwfrL"
      }
    },
    {
      "cell_type": "markdown",
      "metadata": {
        "id": "Z9zHqRjQM55C"
      },
      "source": [
        "---\n"
      ]
    },
    {
      "cell_type": "markdown",
      "metadata": {
        "id": "E7zXYllSM55C"
      },
      "source": [
        "## 문제 3 (난이도: 중): 상호작용 효과 분석하기\n",
        "\n",
        "> **🎯 목표:** 한 변수의 효과가 다른 변수의 상황에 따라 달라지는 **상호작용 효과**를 직접 변수를 곱하여 만들고, 그 의미를 해석합니다.\n"
      ]
    },
    {
      "cell_type": "markdown",
      "metadata": {
        "id": "U7eltadkM55C"
      },
      "source": [
        "### 💡 핵심 개념:\n",
        "\n",
        "**상호작용**은 한 변수의 효과가 다른 변수의 수준에 따라 달라지는 현상을 말합니다. 예를 들어, \"식사 금액이 팁에 미치는 영향은 흡연 여부에 따라 다르다\"와 같은 가설을 검증할 때 사용됩니다. 배열 방식에서는 상호작용 항을 **두 변수의 곱**으로 직접 만들어서 모델에 추가합니다.\n"
      ]
    },
    {
      "cell_type": "markdown",
      "metadata": {
        "id": "sqS_as9jM55C"
      },
      "source": [
        "### 📌 수행 과제:\n",
        "\n",
        "1. \"식사 총액(`total_bill`)이 팁에 미치는 영향은 흡연자(`smoker`) 그룹과 비흡연자 그룹에서 다를 것이다\"라는 가설을 검증해봅시다.\n",
        "2. `smoker` 변수를 더미 변수(`smoker_Yes`)로 만드세요. ('Yes' = 1, 'No' = 0)\n",
        "3. `total_bill`과 `smoker_Yes`를 곱하여 상호작용 항(`bill_x_smoker`)을 만드세요.\n",
        "4. `total_bill`, `smoker_Yes`, `bill_x_smoker`를 모두 포함하여 회귀 모델을 학습시키고 결과를 해석하세요.\n"
      ]
    },
    {
      "cell_type": "markdown",
      "metadata": {
        "id": "mTJCG39AM55C"
      },
      "source": [
        "### ✍️ 코드 작성:\n"
      ]
    },
    {
      "cell_type": "code",
      "execution_count": 20,
      "metadata": {
        "id": "CyEK177XM55C",
        "colab": {
          "base_uri": "https://localhost:8080/"
        },
        "outputId": "c4342c90-4255-4dad-bed3-f6110a358f2e"
      },
      "outputs": [
        {
          "output_type": "stream",
          "name": "stdout",
          "text": [
            "                            OLS Regression Results                            \n",
            "==============================================================================\n",
            "Dep. Variable:                    tip   R-squared:                       0.506\n",
            "Model:                            OLS   Adj. R-squared:                  0.500\n",
            "Method:                 Least Squares   F-statistic:                     81.95\n",
            "Date:                Thu, 11 Sep 2025   Prob (F-statistic):           1.56e-36\n",
            "Time:                        03:22:57   Log-Likelihood:                -338.91\n",
            "No. Observations:                 244   AIC:                             685.8\n",
            "Df Residuals:                     240   BIC:                             699.8\n",
            "Df Model:                           3                                         \n",
            "Covariance Type:            nonrobust                                         \n",
            "=================================================================================\n",
            "                    coef    std err          t      P>|t|      [0.025      0.975]\n",
            "---------------------------------------------------------------------------------\n",
            "const             1.5643      0.238      6.570      0.000       1.095       2.033\n",
            "total_bill        0.0696      0.010      6.707      0.000       0.049       0.090\n",
            "smoker_Yes       -1.2042      0.312     -3.856      0.000      -1.819      -0.589\n",
            "bill_x_smoker     0.0676      0.014      4.762      0.000       0.040       0.096\n",
            "==============================================================================\n",
            "Omnibus:                       45.973   Durbin-Watson:                   2.078\n",
            "Prob(Omnibus):                  0.000   Jarque-Bera (JB):              122.757\n",
            "Skew:                           0.830   Prob(JB):                     2.21e-27\n",
            "Kurtosis:                       6.053   Cond. No.                         152.\n",
            "==============================================================================\n",
            "\n",
            "Notes:\n",
            "[1] Standard Errors assume that the covariance matrix of the errors is correctly specified.\n"
          ]
        }
      ],
      "source": [
        "# 1. 기본 데이터를 준비합니다.\n",
        "import pandas as pd\n",
        "import seaborn as sns\n",
        "import statsmodels.api as sm\n",
        "\n",
        "tips = sns.load_dataset('tips')\n",
        "y = tips['tip']\n",
        "X = tips[['total_bill']].copy()\n",
        "\n",
        "# 2. 여기에 'smoker' 더미 변수를 X에 추가하는 코드를 작성하세요.\n",
        "X['smoker_Yes'] = pd.get_dummies(tips['smoker'], drop_first=True, dtype=int)\n",
        "\n",
        "# 3. 여기에 상호작용 항을 직접 계산하여 X에 추가하는 코드를 작성하세요.\n",
        "# 'total_bill' 컬럼과 'smoker_Yes' 컬럼을 곱합니다.\n",
        "X['bill_x_smoker'] = X['total_bill'] * X['smoker_Yes']\n",
        "\n",
        "# 4. 상수항을 추가하고 모델을 학습시킨 후 결과를 출력하세요.\n",
        "X_const = sm.add_constant(X)\n",
        "model_3 = sm.OLS(y, X_const).fit()\n",
        "print(model_3.summary())\n",
        "\n",
        "# 5. 결과 해석 (아래 주석에 직접 작성해 보세요)\n",
        "# 상호작용 항(bill_x_smoker)의 p-value는 유의미한가?:\n",
        "# 상호작용 항 계수의 의미:"
      ]
    },
    {
      "cell_type": "markdown",
      "source": [
        "상호작용 항(bill_x_smoker)의 p-value는 유의미한가?\n",
        "네. p-value = 0.000 (유의수준 0.05보다 훨씬 작음) → 유의함.\n",
        "⇒ 총액이 팁에 미치는 기울기(효과)가 흡연자와 비흡연자 사이에서 다릅니다.\n",
        "\n",
        "상호작용 항 계수의 의미:\n",
        "bill_x_smoker = 0.0676 → 흡연자의 기울기 − 비흡연자의 기울기 = 0.0676.\n",
        "즉, 총액 $1 증가 시 흡연자 그룹의 팁 증가량이 비흡연자보다 $0.0676 더 큽니다."
      ],
      "metadata": {
        "id": "Tt2vEleCzDBc"
      }
    },
    {
      "cell_type": "markdown",
      "metadata": {
        "id": "M2PxrmkkM55C"
      },
      "source": [
        "### 🤔 생각해 볼 문제:\n",
        "\n",
        "위 모델에서 비흡연자(smoker_Yes=0)의 `total_bill` 기울기는 얼마일까요? 그리고 흡연자(smoker_Yes=1)의 `total_bill` 기울기는 얼마일까요? (힌트: 흡연자의 기울기 = 기본 `total_bill` 기울기 + 상호작용 항 기울기)\n"
      ]
    },
    {
      "cell_type": "code",
      "source": [
        "# model_3의 회귀 계수를 가져옵니다.\n",
        "coefs = model_3.params\n",
        "\n",
        "# 비흡연자(smoker_Yes = 0)의 total_bill 기울기는 total_bill의 기본 계수입니다.\n",
        "slope_nonsmoker = coefs['total_bill']\n",
        "\n",
        "# 흡연자(smoker_Yes = 1)의 total_bill 기울기는 total_bill의 기본 계수와 상호작용 항 계수를 더한 값입니다.\n",
        "slope_smoker = coefs['total_bill'] + coefs['bill_x_smoker']\n",
        "\n",
        "print(f\"비흡연자 그룹의 total_bill 기울기: {slope_nonsmoker:.4f}\")\n",
        "print(f\"흡연자 그룹의 total_bill 기울기: {slope_smoker:.4f}\")"
      ],
      "metadata": {
        "colab": {
          "base_uri": "https://localhost:8080/"
        },
        "id": "7dKmssqxzOFk",
        "outputId": "10f5730e-be53-4ec7-9a14-36feacd9ddcc"
      },
      "execution_count": 21,
      "outputs": [
        {
          "output_type": "stream",
          "name": "stdout",
          "text": [
            "비흡연자 그룹의 total_bill 기울기: 0.0696\n",
            "흡연자 그룹의 total_bill 기울기: 0.1372\n"
          ]
        }
      ]
    },
    {
      "cell_type": "markdown",
      "metadata": {
        "id": "fd667148"
      },
      "source": [
        "**결과 의미 해석**\n",
        "\n",
        "*   **비흡연자 그룹의 total_bill 기울기 (0.0696)**: 비흡연자 그룹의 경우, 식사 총액(`total_bill`)이 1단위 증가할 때 팁(`tip`)은 평균적으로 약 0.0696 단위 증가하는 것으로 예상됩니다.\n",
        "*   **흡연자 그룹의 total_bill 기울기 (0.1372)**: 흡연자 그룹의 경우, 식사 총액(`total_bill`)이 1단위 증가할 때 팁(`tip`)은 평균적으로 약 0.1372 단위 증가하는 것으로 예상됩니다.\n",
        "\n",
        "상호작용 항 분석 결과와 마찬가지로, 흡연자 그룹의 `total_bill`에 대한 팁의 증가율(기울기)이 비흡연자 그룹보다 더 가파르다는 것을 확인할 수 있습니다. 이는 식사 총액이 증가할수록 흡연자 그룹이 비흡연자 그룹에 비해 더 많은 팁을 주는 경향이 있음을 시사합니다."
      ]
    },
    {
      "cell_type": "markdown",
      "metadata": {
        "id": "wtPxUdOFM55C"
      },
      "source": [
        "---\n"
      ]
    },
    {
      "cell_type": "markdown",
      "metadata": {
        "id": "PRELzjHfM55C"
      },
      "source": [
        "## 문제 4 (난이도: 중): 로지스틱 회귀분석\n",
        "\n",
        "> **🎯 목표:** 결과가 '예/아니오' 같은 범주형일 때 사용하는 **로지스틱 회귀분석**을 구현하고, 그 결과를 **오즈비(Odds Ratio)**로 해석하는 방법을 배웁니다.\n"
      ]
    },
    {
      "cell_type": "markdown",
      "metadata": {
        "id": "vDofZuJjM55C"
      },
      "source": [
        "### 💡 핵심 개념:\n",
        "\n",
        "**로지스틱 회귀분석**은 결과가 '예/아니오', '성공/실패'처럼 **두 가지 중 하나**일 때 사용하는 분석 방법입니다. 어떤 조건에서 특정 결과가 나타날 **'확률'**을 예측합니다. 회귀 계수는 그대로 해석하기 어렵고, `np.exp(계수)`를 계산한 **오즈비(Odds Ratio)**로 해석해야 합니다. 오즈비가 1보다 크면 확률 증가, 1보다 작으면 확률 감소를 의미합니다.\n"
      ]
    },
    {
      "cell_type": "markdown",
      "metadata": {
        "id": "uTUO0-T-M55C"
      },
      "source": [
        "### 📌 수행 과제:\n",
        "\n",
        "1. 식사 총액(`total_bill`)과 팁(`tip`) 금액을 보고, 그 고객이 '남성'일 확률을 예측하는 로지스틱 회귀 모델을 만들어봅시다.\n",
        "2. 종속변수 `y`를 'sex'가 'Male'이면 1, 아니면 0이 되도록 변환하세요.\n",
        "3. `sm.Logit` 함수를 사용하여 모델을 학습시키고, 결과를 확인하세요.\n",
        "4. `np.exp()`를 이용해 계수를 오즈비로 변환하고, 그 의미를 해석하세요.\n"
      ]
    },
    {
      "cell_type": "markdown",
      "metadata": {
        "id": "cEqx4wgfM55C"
      },
      "source": [
        "### ✍️ 코드 작성:\n"
      ]
    },
    {
      "cell_type": "code",
      "execution_count": 23,
      "metadata": {
        "id": "EjmQIKvrM55D",
        "colab": {
          "base_uri": "https://localhost:8080/"
        },
        "outputId": "c0167581-cc18-4c1d-e797-964fef414b95"
      },
      "outputs": [
        {
          "output_type": "stream",
          "name": "stdout",
          "text": [
            "Optimization terminated successfully.\n",
            "         Current function value: 0.640304\n",
            "         Iterations 5\n",
            "                           Logit Regression Results                           \n",
            "==============================================================================\n",
            "Dep. Variable:                    sex   No. Observations:                  244\n",
            "Model:                          Logit   Df Residuals:                      241\n",
            "Method:                           MLE   Df Model:                            2\n",
            "Date:                Thu, 11 Sep 2025   Pseudo R-squ.:                 0.01705\n",
            "Time:                        03:26:08   Log-Likelihood:                -156.23\n",
            "converged:                       True   LL-Null:                       -158.94\n",
            "Covariance Type:            nonrobust   LLR p-value:                   0.06651\n",
            "==============================================================================\n",
            "                 coef    std err          z      P>|z|      [0.025      0.975]\n",
            "------------------------------------------------------------------------------\n",
            "const         -0.0979      0.363     -0.270      0.787      -0.808       0.613\n",
            "total_bill     0.0400      0.022      1.793      0.073      -0.004       0.084\n",
            "tip           -0.0283      0.140     -0.203      0.839      -0.302       0.245\n",
            "==============================================================================\n",
            "\n",
            "--- 오즈비 (Odds Ratios) ---\n",
            "const         0.906756\n",
            "total_bill    1.040766\n",
            "tip           0.972066\n",
            "dtype: float64\n"
          ]
        }
      ],
      "source": [
        "# 1. 여기에 종속변수 y를 0과 1로 변환하는 코드를 작성하세요.\n",
        "# 'sex'가 'Male'이면 1, 아니면 0\n",
        "y = tips['sex'].apply(lambda x: 1 if x == 'Male' else 0)\n",
        "\n",
        "# 2. 독립변수 X를 준비하고 상수항을 추가하세요.\n",
        "X = tips[['total_bill', 'tip']]\n",
        "X_const = sm.add_constant(X)\n",
        "\n",
        "# 3. 여기에 로지스틱 회귀 모델을 학습시키는 코드를 작성하세요.\n",
        "# sm.Logit() 함수를 사용합니다.\n",
        "model_4 = sm.Logit(y, X_const).fit()\n",
        "print(model_4.summary())\n",
        "\n",
        "# 4. 여기에 오즈비를 계산하고 출력하는 코드를 작성하세요.\n",
        "import numpy as np\n",
        "odds_ratios = np.exp(model_4.params)\n",
        "print(\"\\n--- 오즈비 (Odds Ratios) ---\")\n",
        "print(odds_ratios)\n",
        "\n",
        "# 5. 결과 해석 (아래 주석에 직접 작성해 보세요)\n",
        "# total_bill 오즈비의 의미: total_bill이 1단위 증가할 때, 남성일 오즈(odds)가 해당 오즈비만큼 배가 됩니다. (다른 변수 일정)\n",
        "# tip 오즈비의 의미: tip이 1단위 증가할 때, 남성일 오즈(odds)가 해당 오즈비만큼 배가 됩니다. (다른 변수 일정)"
      ]
    },
    {
      "cell_type": "markdown",
      "metadata": {
        "id": "dc4c2eef"
      },
      "source": [
        "**결과 해석**\n",
        "\n",
        "로지스틱 회귀 모델 결과와 오즈비는 다음과 같이 해석할 수 있습니다.\n",
        "\n",
        "*   **total_bill 오즈비 (1.040766)**: `total_bill`이 1단위 증가할 때, 고객이 남성일 오즈(odds)가 약 1.04배 증가합니다. 즉, 식사 총액이 많을수록 남성일 확률이 약간 높아지는 경향이 있습니다. 다만, `total_bill`의 P>|z| 값(0.073)이 0.05보다 크므로 통계적으로 유의미하다고 단정하기는 어렵습니다.\n",
        "\n",
        "*   **tip 오즈비 (0.972066)**: `tip`이 1단위 증가할 때, 고객이 남성일 오즈(odds)가 약 0.97배가 됩니다. 즉, 팁 금액이 많을수록 남성일 확률이 약간 낮아지는 경향이 있으나, `tip`의 P>|z| 값(0.839)이 매우 크므로 통계적으로 유의미하지 않습니다.\n",
        "\n",
        "결론적으로, 이 로지스틱 회귀 모델만으로는 `total_bill`과 `tip`이 고객의 성별을 예측하는 데 통계적으로 유의미한 영향을 미친다고 보기 어렵습니다."
      ]
    },
    {
      "cell_type": "markdown",
      "metadata": {
        "id": "KI6_eMz9M55D"
      },
      "source": [
        "### 🤔 생각해 볼 문제:\n",
        "\n",
        "`model_4.predict(X_const)` 코드를 실행하면 각 손님에 대해 '남성일 확률'을 예측해줍니다. 이 예측 확률이 가장 높은 상위 5명의 손님 데이터(total_bill, tip)는 어떤 특징을 가지고 있는지 확인해보세요.\n"
      ]
    },
    {
      "cell_type": "code",
      "source": [
        "# model_4를 사용하여 남성일 확률을 예측합니다.\n",
        "predicted_prob = model_4.predict(X_const)\n",
        "\n",
        "# 예측 확률과 원래 데이터를 합쳐서 DataFrame을 만듭니다.\n",
        "results_df = tips[['total_bill', 'tip']].copy()\n",
        "results_df['predicted_male_prob'] = predicted_prob\n",
        "\n",
        "# 예측 확률이 높은 순서대로 정렬하고 상위 5개를 선택합니다.\n",
        "top_5_males = results_df.sort_values(by='predicted_male_prob', ascending=False).head(5)\n",
        "\n",
        "# 상위 5명의 손님 데이터를 출력합니다.\n",
        "display(top_5_males)"
      ],
      "metadata": {
        "colab": {
          "base_uri": "https://localhost:8080/",
          "height": 206
        },
        "id": "AyFLPEDg0FfA",
        "outputId": "2eb87f25-b97e-42e6-c4db-54f8e2c5cbb3"
      },
      "execution_count": 24,
      "outputs": [
        {
          "output_type": "display_data",
          "data": {
            "text/plain": [
              "     total_bill    tip  predicted_male_prob\n",
              "156       48.17   5.00             0.843590\n",
              "170       50.81  10.00             0.838758\n",
              "59        48.27   6.73             0.837558\n",
              "182       45.35   3.50             0.834105\n",
              "102       44.30   2.50             0.832212"
            ],
            "text/html": [
              "\n",
              "  <div id=\"df-e3d8d0d4-b78e-494b-beef-65f5197e627a\" class=\"colab-df-container\">\n",
              "    <div>\n",
              "<style scoped>\n",
              "    .dataframe tbody tr th:only-of-type {\n",
              "        vertical-align: middle;\n",
              "    }\n",
              "\n",
              "    .dataframe tbody tr th {\n",
              "        vertical-align: top;\n",
              "    }\n",
              "\n",
              "    .dataframe thead th {\n",
              "        text-align: right;\n",
              "    }\n",
              "</style>\n",
              "<table border=\"1\" class=\"dataframe\">\n",
              "  <thead>\n",
              "    <tr style=\"text-align: right;\">\n",
              "      <th></th>\n",
              "      <th>total_bill</th>\n",
              "      <th>tip</th>\n",
              "      <th>predicted_male_prob</th>\n",
              "    </tr>\n",
              "  </thead>\n",
              "  <tbody>\n",
              "    <tr>\n",
              "      <th>156</th>\n",
              "      <td>48.17</td>\n",
              "      <td>5.00</td>\n",
              "      <td>0.843590</td>\n",
              "    </tr>\n",
              "    <tr>\n",
              "      <th>170</th>\n",
              "      <td>50.81</td>\n",
              "      <td>10.00</td>\n",
              "      <td>0.838758</td>\n",
              "    </tr>\n",
              "    <tr>\n",
              "      <th>59</th>\n",
              "      <td>48.27</td>\n",
              "      <td>6.73</td>\n",
              "      <td>0.837558</td>\n",
              "    </tr>\n",
              "    <tr>\n",
              "      <th>182</th>\n",
              "      <td>45.35</td>\n",
              "      <td>3.50</td>\n",
              "      <td>0.834105</td>\n",
              "    </tr>\n",
              "    <tr>\n",
              "      <th>102</th>\n",
              "      <td>44.30</td>\n",
              "      <td>2.50</td>\n",
              "      <td>0.832212</td>\n",
              "    </tr>\n",
              "  </tbody>\n",
              "</table>\n",
              "</div>\n",
              "    <div class=\"colab-df-buttons\">\n",
              "\n",
              "  <div class=\"colab-df-container\">\n",
              "    <button class=\"colab-df-convert\" onclick=\"convertToInteractive('df-e3d8d0d4-b78e-494b-beef-65f5197e627a')\"\n",
              "            title=\"Convert this dataframe to an interactive table.\"\n",
              "            style=\"display:none;\">\n",
              "\n",
              "  <svg xmlns=\"http://www.w3.org/2000/svg\" height=\"24px\" viewBox=\"0 -960 960 960\">\n",
              "    <path d=\"M120-120v-720h720v720H120Zm60-500h600v-160H180v160Zm220 220h160v-160H400v160Zm0 220h160v-160H400v160ZM180-400h160v-160H180v160Zm440 0h160v-160H620v160ZM180-180h160v-160H180v160Zm440 0h160v-160H620v160Z\"/>\n",
              "  </svg>\n",
              "    </button>\n",
              "\n",
              "  <style>\n",
              "    .colab-df-container {\n",
              "      display:flex;\n",
              "      gap: 12px;\n",
              "    }\n",
              "\n",
              "    .colab-df-convert {\n",
              "      background-color: #E8F0FE;\n",
              "      border: none;\n",
              "      border-radius: 50%;\n",
              "      cursor: pointer;\n",
              "      display: none;\n",
              "      fill: #1967D2;\n",
              "      height: 32px;\n",
              "      padding: 0 0 0 0;\n",
              "      width: 32px;\n",
              "    }\n",
              "\n",
              "    .colab-df-convert:hover {\n",
              "      background-color: #E2EBFA;\n",
              "      box-shadow: 0px 1px 2px rgba(60, 64, 67, 0.3), 0px 1px 3px 1px rgba(60, 64, 67, 0.15);\n",
              "      fill: #174EA6;\n",
              "    }\n",
              "\n",
              "    .colab-df-buttons div {\n",
              "      margin-bottom: 4px;\n",
              "    }\n",
              "\n",
              "    [theme=dark] .colab-df-convert {\n",
              "      background-color: #3B4455;\n",
              "      fill: #D2E3FC;\n",
              "    }\n",
              "\n",
              "    [theme=dark] .colab-df-convert:hover {\n",
              "      background-color: #434B5C;\n",
              "      box-shadow: 0px 1px 3px 1px rgba(0, 0, 0, 0.15);\n",
              "      filter: drop-shadow(0px 1px 2px rgba(0, 0, 0, 0.3));\n",
              "      fill: #FFFFFF;\n",
              "    }\n",
              "  </style>\n",
              "\n",
              "    <script>\n",
              "      const buttonEl =\n",
              "        document.querySelector('#df-e3d8d0d4-b78e-494b-beef-65f5197e627a button.colab-df-convert');\n",
              "      buttonEl.style.display =\n",
              "        google.colab.kernel.accessAllowed ? 'block' : 'none';\n",
              "\n",
              "      async function convertToInteractive(key) {\n",
              "        const element = document.querySelector('#df-e3d8d0d4-b78e-494b-beef-65f5197e627a');\n",
              "        const dataTable =\n",
              "          await google.colab.kernel.invokeFunction('convertToInteractive',\n",
              "                                                    [key], {});\n",
              "        if (!dataTable) return;\n",
              "\n",
              "        const docLinkHtml = 'Like what you see? Visit the ' +\n",
              "          '<a target=\"_blank\" href=https://colab.research.google.com/notebooks/data_table.ipynb>data table notebook</a>'\n",
              "          + ' to learn more about interactive tables.';\n",
              "        element.innerHTML = '';\n",
              "        dataTable['output_type'] = 'display_data';\n",
              "        await google.colab.output.renderOutput(dataTable, element);\n",
              "        const docLink = document.createElement('div');\n",
              "        docLink.innerHTML = docLinkHtml;\n",
              "        element.appendChild(docLink);\n",
              "      }\n",
              "    </script>\n",
              "  </div>\n",
              "\n",
              "\n",
              "    <div id=\"df-de72eaab-ceda-4452-8bf2-688db3422efc\">\n",
              "      <button class=\"colab-df-quickchart\" onclick=\"quickchart('df-de72eaab-ceda-4452-8bf2-688db3422efc')\"\n",
              "                title=\"Suggest charts\"\n",
              "                style=\"display:none;\">\n",
              "\n",
              "<svg xmlns=\"http://www.w3.org/2000/svg\" height=\"24px\"viewBox=\"0 0 24 24\"\n",
              "     width=\"24px\">\n",
              "    <g>\n",
              "        <path d=\"M19 3H5c-1.1 0-2 .9-2 2v14c0 1.1.9 2 2 2h14c1.1 0 2-.9 2-2V5c0-1.1-.9-2-2-2zM9 17H7v-7h2v7zm4 0h-2V7h2v10zm4 0h-2v-4h2v4z\"/>\n",
              "    </g>\n",
              "</svg>\n",
              "      </button>\n",
              "\n",
              "<style>\n",
              "  .colab-df-quickchart {\n",
              "      --bg-color: #E8F0FE;\n",
              "      --fill-color: #1967D2;\n",
              "      --hover-bg-color: #E2EBFA;\n",
              "      --hover-fill-color: #174EA6;\n",
              "      --disabled-fill-color: #AAA;\n",
              "      --disabled-bg-color: #DDD;\n",
              "  }\n",
              "\n",
              "  [theme=dark] .colab-df-quickchart {\n",
              "      --bg-color: #3B4455;\n",
              "      --fill-color: #D2E3FC;\n",
              "      --hover-bg-color: #434B5C;\n",
              "      --hover-fill-color: #FFFFFF;\n",
              "      --disabled-bg-color: #3B4455;\n",
              "      --disabled-fill-color: #666;\n",
              "  }\n",
              "\n",
              "  .colab-df-quickchart {\n",
              "    background-color: var(--bg-color);\n",
              "    border: none;\n",
              "    border-radius: 50%;\n",
              "    cursor: pointer;\n",
              "    display: none;\n",
              "    fill: var(--fill-color);\n",
              "    height: 32px;\n",
              "    padding: 0;\n",
              "    width: 32px;\n",
              "  }\n",
              "\n",
              "  .colab-df-quickchart:hover {\n",
              "    background-color: var(--hover-bg-color);\n",
              "    box-shadow: 0 1px 2px rgba(60, 64, 67, 0.3), 0 1px 3px 1px rgba(60, 64, 67, 0.15);\n",
              "    fill: var(--button-hover-fill-color);\n",
              "  }\n",
              "\n",
              "  .colab-df-quickchart-complete:disabled,\n",
              "  .colab-df-quickchart-complete:disabled:hover {\n",
              "    background-color: var(--disabled-bg-color);\n",
              "    fill: var(--disabled-fill-color);\n",
              "    box-shadow: none;\n",
              "  }\n",
              "\n",
              "  .colab-df-spinner {\n",
              "    border: 2px solid var(--fill-color);\n",
              "    border-color: transparent;\n",
              "    border-bottom-color: var(--fill-color);\n",
              "    animation:\n",
              "      spin 1s steps(1) infinite;\n",
              "  }\n",
              "\n",
              "  @keyframes spin {\n",
              "    0% {\n",
              "      border-color: transparent;\n",
              "      border-bottom-color: var(--fill-color);\n",
              "      border-left-color: var(--fill-color);\n",
              "    }\n",
              "    20% {\n",
              "      border-color: transparent;\n",
              "      border-left-color: var(--fill-color);\n",
              "      border-top-color: var(--fill-color);\n",
              "    }\n",
              "    30% {\n",
              "      border-color: transparent;\n",
              "      border-left-color: var(--fill-color);\n",
              "      border-top-color: var(--fill-color);\n",
              "      border-right-color: var(--fill-color);\n",
              "    }\n",
              "    40% {\n",
              "      border-color: transparent;\n",
              "      border-right-color: var(--fill-color);\n",
              "      border-top-color: var(--fill-color);\n",
              "    }\n",
              "    60% {\n",
              "      border-color: transparent;\n",
              "      border-right-color: var(--fill-color);\n",
              "    }\n",
              "    80% {\n",
              "      border-color: transparent;\n",
              "      border-right-color: var(--fill-color);\n",
              "      border-bottom-color: var(--fill-color);\n",
              "    }\n",
              "    90% {\n",
              "      border-color: transparent;\n",
              "      border-bottom-color: var(--fill-color);\n",
              "    }\n",
              "  }\n",
              "</style>\n",
              "\n",
              "      <script>\n",
              "        async function quickchart(key) {\n",
              "          const quickchartButtonEl =\n",
              "            document.querySelector('#' + key + ' button');\n",
              "          quickchartButtonEl.disabled = true;  // To prevent multiple clicks.\n",
              "          quickchartButtonEl.classList.add('colab-df-spinner');\n",
              "          try {\n",
              "            const charts = await google.colab.kernel.invokeFunction(\n",
              "                'suggestCharts', [key], {});\n",
              "          } catch (error) {\n",
              "            console.error('Error during call to suggestCharts:', error);\n",
              "          }\n",
              "          quickchartButtonEl.classList.remove('colab-df-spinner');\n",
              "          quickchartButtonEl.classList.add('colab-df-quickchart-complete');\n",
              "        }\n",
              "        (() => {\n",
              "          let quickchartButtonEl =\n",
              "            document.querySelector('#df-de72eaab-ceda-4452-8bf2-688db3422efc button');\n",
              "          quickchartButtonEl.style.display =\n",
              "            google.colab.kernel.accessAllowed ? 'block' : 'none';\n",
              "        })();\n",
              "      </script>\n",
              "    </div>\n",
              "\n",
              "  <div id=\"id_f3866786-2548-4ec0-917b-62b036119a14\">\n",
              "    <style>\n",
              "      .colab-df-generate {\n",
              "        background-color: #E8F0FE;\n",
              "        border: none;\n",
              "        border-radius: 50%;\n",
              "        cursor: pointer;\n",
              "        display: none;\n",
              "        fill: #1967D2;\n",
              "        height: 32px;\n",
              "        padding: 0 0 0 0;\n",
              "        width: 32px;\n",
              "      }\n",
              "\n",
              "      .colab-df-generate:hover {\n",
              "        background-color: #E2EBFA;\n",
              "        box-shadow: 0px 1px 2px rgba(60, 64, 67, 0.3), 0px 1px 3px 1px rgba(60, 64, 67, 0.15);\n",
              "        fill: #174EA6;\n",
              "      }\n",
              "\n",
              "      [theme=dark] .colab-df-generate {\n",
              "        background-color: #3B4455;\n",
              "        fill: #D2E3FC;\n",
              "      }\n",
              "\n",
              "      [theme=dark] .colab-df-generate:hover {\n",
              "        background-color: #434B5C;\n",
              "        box-shadow: 0px 1px 3px 1px rgba(0, 0, 0, 0.15);\n",
              "        filter: drop-shadow(0px 1px 2px rgba(0, 0, 0, 0.3));\n",
              "        fill: #FFFFFF;\n",
              "      }\n",
              "    </style>\n",
              "    <button class=\"colab-df-generate\" onclick=\"generateWithVariable('top_5_males')\"\n",
              "            title=\"Generate code using this dataframe.\"\n",
              "            style=\"display:none;\">\n",
              "\n",
              "  <svg xmlns=\"http://www.w3.org/2000/svg\" height=\"24px\"viewBox=\"0 0 24 24\"\n",
              "       width=\"24px\">\n",
              "    <path d=\"M7,19H8.4L18.45,9,17,7.55,7,17.6ZM5,21V16.75L18.45,3.32a2,2,0,0,1,2.83,0l1.4,1.43a1.91,1.91,0,0,1,.58,1.4,1.91,1.91,0,0,1-.58,1.4L9.25,21ZM18.45,9,17,7.55Zm-12,3A5.31,5.31,0,0,0,4.9,8.1,5.31,5.31,0,0,0,1,6.5,5.31,5.31,0,0,0,4.9,4.9,5.31,5.31,0,0,0,6.5,1,5.31,5.31,0,0,0,8.1,4.9,5.31,5.31,0,0,0,12,6.5,5.46,5.46,0,0,0,6.5,12Z\"/>\n",
              "  </svg>\n",
              "    </button>\n",
              "    <script>\n",
              "      (() => {\n",
              "      const buttonEl =\n",
              "        document.querySelector('#id_f3866786-2548-4ec0-917b-62b036119a14 button.colab-df-generate');\n",
              "      buttonEl.style.display =\n",
              "        google.colab.kernel.accessAllowed ? 'block' : 'none';\n",
              "\n",
              "      buttonEl.onclick = () => {\n",
              "        google.colab.notebook.generateWithVariable('top_5_males');\n",
              "      }\n",
              "      })();\n",
              "    </script>\n",
              "  </div>\n",
              "\n",
              "    </div>\n",
              "  </div>\n"
            ],
            "application/vnd.google.colaboratory.intrinsic+json": {
              "type": "dataframe",
              "variable_name": "top_5_males",
              "summary": "{\n  \"name\": \"top_5_males\",\n  \"rows\": 5,\n  \"fields\": [\n    {\n      \"column\": \"total_bill\",\n      \"properties\": {\n        \"dtype\": \"number\",\n        \"std\": 2.5878755766071926,\n        \"min\": 44.3,\n        \"max\": 50.81,\n        \"num_unique_values\": 5,\n        \"samples\": [\n          50.81,\n          44.3,\n          48.27\n        ],\n        \"semantic_type\": \"\",\n        \"description\": \"\"\n      }\n    },\n    {\n      \"column\": \"tip\",\n      \"properties\": {\n        \"dtype\": \"number\",\n        \"std\": 2.9581379278187825,\n        \"min\": 2.5,\n        \"max\": 10.0,\n        \"num_unique_values\": 5,\n        \"samples\": [\n          10.0,\n          2.5,\n          6.73\n        ],\n        \"semantic_type\": \"\",\n        \"description\": \"\"\n      }\n    },\n    {\n      \"column\": \"predicted_male_prob\",\n      \"properties\": {\n        \"dtype\": \"number\",\n        \"std\": 0.0044113584361559375,\n        \"min\": 0.832211692557489,\n        \"max\": 0.8435902381502752,\n        \"num_unique_values\": 5,\n        \"samples\": [\n          0.8387578488874331,\n          0.832211692557489,\n          0.837557960003641\n        ],\n        \"semantic_type\": \"\",\n        \"description\": \"\"\n      }\n    }\n  ]\n}"
            }
          },
          "metadata": {}
        }
      ]
    },
    {
      "cell_type": "markdown",
      "metadata": {
        "id": "fcc464ce"
      },
      "source": [
        "**결과 의미 해석**\n",
        "\n",
        "`model_4.predict()`를 통해 예측된 '남성일 확률'이 가장 높은 상위 5명의 손님 데이터를 확인했습니다.\n",
        "\n",
        "이 상위 5명의 데이터를 보면, 전반적으로 `total_bill` (식사 총액)이 높은 경향을 보입니다. 로지스틱 회귀 모델의 오즈비 해석에서 `total_bill`이 높을수록 남성일 오즈가 약간 증가하는 경향이 있다고 분석했는데, 이 결과는 해당 분석을 지지하는 것으로 볼 수 있습니다. `tip` 금액은 다양하게 나타나며, `total_bill`만큼 뚜렷한 패턴은 보이지 않습니다."
      ]
    },
    {
      "cell_type": "markdown",
      "metadata": {
        "id": "rnA3Fp7DM55D"
      },
      "source": [
        "---\n"
      ]
    },
    {
      "cell_type": "markdown",
      "metadata": {
        "id": "-S2HLNBZM55D"
      },
      "source": [
        "## 문제 5 (난이도: 중): 최고의 모델 찾기: AIC\n",
        "\n",
        "> **🎯 목표:** 여러 모델 중 어떤 모델이 가장 좋은지 객관적인 점수로 평가하는 **AIC**의 개념을 이해하고, 이를 이용해 최적의 모델을 선택합니다.\n"
      ]
    },
    {
      "cell_type": "markdown",
      "metadata": {
        "id": "p7HbhJgzM55D"
      },
      "source": [
        "### 💡 핵심 개념:\n",
        "\n",
        "**AIC (Akaike Information Criterion)**는 여러 모델 중 어떤 모델이 가장 좋은지 평가하는 '점수'입니다. AIC는 **모델의 설명력(얼마나 잘 맞추는가)**은 높이고, **모델의 복잡성(얼마나 많은 변수를 썼는가)**에는 벌점을 줍니다. 따라서 **AIC 점수는 낮을수록 더 좋은(효율적인) 모델**이라고 평가합니다.\n"
      ]
    },
    {
      "cell_type": "markdown",
      "metadata": {
        "id": "o5Dt8QapM55D"
      },
      "source": [
        "### 📌 수행 과제:\n",
        "\n",
        "1. 팁(`tip`) 금액을 예측하기 위한 세 가지 다른 모델을 만듭니다.\n",
        "   - 모델 A: `total_bill`만 사용\n",
        "   - 모델 B: `total_bill`, `size` 사용\n",
        "   - 모델 C: `total_bill`, `size`, `day`(더미) 사용\n",
        "2. 각 모델의 `.aic` 속성을 확인하여 AIC 점수를 비교하세요.\n",
        "3. 어떤 모델이 가장 좋은 모델인지 선택하고, 그 이유를 설명하세요.\n"
      ]
    },
    {
      "cell_type": "markdown",
      "metadata": {
        "id": "geQ4p0MgM55D"
      },
      "source": [
        "### ✍️ 코드 작성:\n"
      ]
    },
    {
      "cell_type": "code",
      "execution_count": 26,
      "metadata": {
        "id": "B1xdjqTDM55D",
        "colab": {
          "base_uri": "https://localhost:8080/"
        },
        "outputId": "80e6f4f1-0231-49fd-e420-1db44f94692c"
      },
      "outputs": [
        {
          "output_type": "stream",
          "name": "stdout",
          "text": [
            "Model A AIC: 705.0761662637547\n",
            "Model B AIC: 701.9702091086953\n",
            "Model C AIC: 707.3838897060045\n"
          ]
        }
      ],
      "source": [
        "import pandas as pd\n",
        "import seaborn as sns\n",
        "import statsmodels.api as sm\n",
        "\n",
        "tips = sns.load_dataset('tips')\n",
        "y = tips['tip']\n",
        "\n",
        "# --- 모델 A: total_bill만 사용 ---\n",
        "X_A = tips[['total_bill']]\n",
        "X_A_const = sm.add_constant(X_A)\n",
        "model_A = sm.OLS(y, X_A_const).fit()\n",
        "print(\"Model A AIC:\", model_A.aic)\n",
        "\n",
        "# --- 모델 B: total_bill과 size 사용 ---\n",
        "# 1. 여기에 모델 B의 X 데이터를 준비하고, 학습 후 AIC를 출력하는 코드를 작성하세요.\n",
        "X_B = tips[['total_bill', 'size']]\n",
        "X_B_const = sm.add_constant(X_B)\n",
        "model_B = sm.OLS(y, X_B_const).fit()\n",
        "print(\"Model B AIC:\", model_B.aic)\n",
        "\n",
        "# --- 모델 C: total_bill, size, day 사용 ---\n",
        "# 2. 여기에 모델 C의 X 데이터를 준비하고, 학습 후 AIC를 출력하는 코드를 작성하세요.\n",
        "# (힌트: 문제 2에서 X 데이터를 만들었던 과정을 참고하세요.)\n",
        "day_dummies = pd.get_dummies(tips['day'], prefix='day', drop_first=True, dtype=int)\n",
        "X_C = pd.concat([X_B, day_dummies], axis=1)\n",
        "X_C_const = sm.add_constant(X_C)\n",
        "model_C = sm.OLS(y, X_C_const).fit()\n",
        "print(\"Model C AIC:\", model_C.aic)\n",
        "\n",
        "# 3. 결과 해석 (아래 주석에 직접 작성해 보세요)\n",
        "# 가장 좋은 모델(AIC가 가장 낮은 모델)은?:\n",
        "# 그렇게 생각하는 이유:"
      ]
    },
    {
      "cell_type": "markdown",
      "metadata": {
        "id": "7da17b0e"
      },
      "source": [
        "**결과 해석**\n",
        "\n",
        "*   **가장 좋은 모델(AIC가 가장 낮은 모델)은?**: 모델 B\n",
        "*   **그렇게 생각하는 이유**: AIC는 모델의 설명력과 복잡성을 동시에 고려하여 모델을 평가하는 지표이며, AIC 값이 낮을수록 더 좋은 모델로 간주됩니다. 모델 A의 AIC는 705.08, 모델 B의 AIC는 701.97, 모델 C의 AIC는 707.38입니다. 이 중에서 모델 B의 AIC 값이 가장 낮으므로, 세 모델 중에서는 모델 B가 가장 효율적인 모델이라고 평가할 수 있습니다."
      ]
    },
    {
      "cell_type": "markdown",
      "metadata": {
        "id": "N88Zw8o7M55G"
      },
      "source": [
        "### 🤔 생각해 볼 문제:\n",
        "\n",
        "AIC는 모델의 복잡도(사용한 변수의 개수)에 벌점을 줍니다. 모델 B는 모델 A보다 변수가 하나 더 많음에도 AIC가 낮아졌습니다. 이는 무엇을 의미할까요?\n"
      ]
    },
    {
      "cell_type": "markdown",
      "source": [
        "AIC는 모델의 복잡성(변수 개수)에 벌점을 부여하지만, 동시에 모델이 데이터를 얼마나 잘 설명하는지(설명력)도 고려합니다.\n",
        "\n",
        "모델 B가 모델 A보다 변수(size)가 하나 더 많음에도 불구하고 AIC가 더 낮아졌다는 것은, 새로 추가된 변수 size가 모델의 설명력을 충분히 향상시켜 변수 증가에 따른 페널티보다 설명력 향상 효과가 더 컸기 때문입니다. 즉, size 변수가 팁 예측에 유의미한 정보를 제공하여 모델의 효율성을 높였다고 해석할 수 있습니다."
      ],
      "metadata": {
        "id": "ebE8PpZv1BfD"
      }
    },
    {
      "cell_type": "markdown",
      "metadata": {
        "id": "72622fd0"
      },
      "source": [
        "## 오늘 실습한 문제의 주요 개념 종합정리 및 알아야 할 인사이트\n",
        "\n",
        "### 1. 다중회귀분석 (문제 1)\n",
        "\n",
        "*   **개념**: 여러 독립변수가 하나의 종속변수에 미치는 영향을 동시에 분석합니다. 각 변수의 계수는 다른 변수들을 통제했을 때의 순수한 영향력을 나타냅니다.\n",
        "*   **Statsmodels 사용법**:\n",
        "    *   종속변수(y)와 독립변수(X)를 분리합니다.\n",
        "    *   `sm.add_constant(X)`를 사용하여 독립변수 데이터에 상수항 컬럼을 **수동으로 추가**해야 합니다. 이는 회귀식의 절편을 계산하는 데 필수적입니다.\n",
        "    *   `sm.OLS(y, X_const).fit()`으로 모델을 학습시키고 `.summary()`로 결과를 확인합니다.\n",
        "*   **인사이트**: 여러 요인이 결과에 복합적으로 영향을 미칠 때 각 요인의 상대적인 중요성과 방향(양의 영향인지 음의 영향인지)을 파악할 수 있습니다.\n",
        "\n",
        "### 2. 더미 변수 활용 (문제 2)\n",
        "\n",
        "*   **개념**: '요일', '성별' 등 범주형 데이터를 회귀 분석에 사용할 수 있도록 0과 1로 변환하는 기법입니다.\n",
        "*   **Statsmodels 사용법**:\n",
        "    *   `pd.get_dummies(데이터, prefix='접두사', drop_first=True)` 함수를 사용합니다.\n",
        "    *   `drop_first=True` 옵션은 다중공선성 문제를 방지하기 위해 하나의 범주를 기준(reference)으로 삼아 해당 더미 변수를 제거합니다.\n",
        "    *   생성된 더미 변수와 다른 독립변수를 `pd.concat()`으로 합쳐 최종 독립변수 데이터(X)를 만듭니다.\n",
        "*   **인사이트**: 범주형 변수의 각 수준이 종속변수에 미치는 영향을 기준 범주와 비교하여 해석할 수 있습니다. `drop_first=True`를 통해 기준 범주를 명확히 설정하는 것이 중요합니다.\n",
        "\n",
        "### 3. 상호작용 효과 분석 (문제 3)\n",
        "\n",
        "*   **개념**: 한 독립변수가 종속변수에 미치는 영향이 다른 독립변수의 수준에 따라 달라지는 경우를 분석합니다. (예: 흡연 여부에 따라 식사 총액 대비 팁 증가율이 다름)\n",
        "*   **Statsmodels 사용법**:\n",
        "    *   상호작용 효과를 분석할 두 독립변수(하나는 더미 변수일 수 있음)를 **직접 곱하여** 새로운 상호작용 항 변수를 생성합니다.\n",
        "    *   기존 독립변수들과 함께 상수항 및 상호작용 항을 모두 포함하여 회귀 모델을 학습시킵니다.\n",
        "*   **인사이트**: 상호작용 항이 통계적으로 유의미하다면, 두 변수 간에 독립적인 영향 외에 추가적인 복합적인 관계가 존재함을 의미합니다. 상호작용 항의 계수는 한 변수의 효과가 다른 변수에 따라 얼마나 달라지는지를 나타냅니다.\n",
        "\n",
        "### 4. 로지스틱 회귀분석 및 오즈비 (문제 4)\n",
        "\n",
        "*   **개념**: 결과 변수가 '예/아니오', '성공/실패'와 같은 이진(binary) 범주형일 때, 각 조건에서 특정 결과가 나타날 **확률**을 예측하는 모델입니다.\n",
        "*   **Statsmodels 사용법**:\n",
        "    *   종속변수(y)를 0과 1로 인코딩해야 합니다.\n",
        "    *   `sm.Logit(y, X_const).fit()`으로 모델을 학습시킵니다. (OLS 대신 Logit 사용)\n",
        "    *   회귀 계수 자체보다는 `np.exp(계수)`를 계산한 **오즈비(Odds Ratio)**로 해석합니다.\n",
        "*   **오즈비 해석**:\n",
        "    *   오즈비 > 1: 독립변수가 1단위 증가할 때, 결과가 1일 오즈(odds)가 오즈비 배만큼 증가합니다.\n",
        "    *   오즈비 < 1: 독립변수가 1단위 증가할 때, 결과가 1일 오즈가 오즈비 배만큼 감소합니다.\n",
        "    *   오즈비 = 1: 독립변수의 변화가 결과의 오즈에 영향을 미치지 않습니다.\n",
        "*   **인사이트**: 특정 조건이 발생할 확률이 다른 조건에 비해 얼마나 높은지(또는 낮은지)를 오즈비를 통해 정량적으로 파악할 수 있습니다.\n",
        "\n",
        "### 5. AIC (Akaike Information Criterion) (문제 5)\n",
        "\n",
        "*   **개념**: 여러 통계 모델의 성능을 비교하는 지표입니다. 모델의 **설명력**은 높게 평가하고 **복잡성(사용한 변수의 수)**에는 페널티를 부여합니다.\n",
        "*   **해석**: **AIC 값이 낮을수록 더 좋은(데이터를 더 효율적으로 설명하는) 모델**입니다.\n",
        "*   **Statsmodels 사용법**: 학습된 모델 객체의 `.aic` 속성을 통해 AIC 값을 쉽게 얻을 수 있습니다.\n",
        "*   **인사이트**: AIC를 통해 모델의 설명력과 간결성 사이의 균형을 고려하여 최적의 모델을 선택하는 데 도움을 받을 수 있습니다. 단순히 설명력이 높다고 해서 (예: R-squared) 변수를 무작정 늘리는 것보다, AIC를 통해 모델의 효율성을 평가하는 것이 중요합니다.\n",
        "\n",
        "이 개념들을 바탕으로 다양한 데이터를 회귀 분석하고 결과를 해석하는 능력을 키울 수 있습니다."
      ]
    }
  ],
  "metadata": {
    "colab": {
      "provenance": [],
      "include_colab_link": true
    },
    "kernelspec": {
      "display_name": "Python 3",
      "name": "python3"
    },
    "language_info": {
      "name": "python"
    }
  },
  "nbformat": 4,
  "nbformat_minor": 0
}